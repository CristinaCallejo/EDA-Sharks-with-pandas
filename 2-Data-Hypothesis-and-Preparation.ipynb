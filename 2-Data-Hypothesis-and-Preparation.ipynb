{
 "cells": [
  {
   "cell_type": "markdown",
   "id": "becoming-monte",
   "metadata": {
    "toc": true
   },
   "source": [
    "<h1>2: Data Hypothesis &amp; Preparation<span class=\"tocSkip\"></span></h1>\n",
    "<div class=\"toc\"><ul class=\"toc-item\"><li><span><a href=\"#Imports\" data-toc-modified-id=\"Imports-1\"><span class=\"toc-item-num\">1&nbsp;&nbsp;</span>Imports</a></span></li><li><span><a href=\"#Data-Formatting\" data-toc-modified-id=\"Data-Formatting-2\"><span class=\"toc-item-num\">2&nbsp;&nbsp;</span>Data Formatting</a></span></li><li><span><a href=\"#2.title\" data-toc-modified-id=\"2.title-3\"><span class=\"toc-item-num\">3&nbsp;&nbsp;</span>2.title</a></span></li><li><span><a href=\"#3.title\" data-toc-modified-id=\"3.title-4\"><span class=\"toc-item-num\">4&nbsp;&nbsp;</span>3.title</a></span></li></ul></div>"
   ]
  },
  {
   "cell_type": "code",
   "execution_count": 1,
   "id": "broad-collect",
   "metadata": {},
   "outputs": [],
   "source": [
    "import pandas as pd\n",
    "import numpy as np\n",
    "import sys\n",
    "import src.code2_data_preparation as f2\n",
    "import seaborn as sns\n",
    "# pip install xlrd"
   ]
  },
  {
   "cell_type": "markdown",
   "id": "designed-asbestos",
   "metadata": {},
   "source": [
    "\n"
   ]
  },
  {
   "cell_type": "markdown",
   "id": "hawaiian-expression",
   "metadata": {},
   "source": [
    "    \n",
    "        \n",
    "        "
   ]
  },
  {
   "cell_type": "markdown",
   "id": "material-zoning",
   "metadata": {},
   "source": [
    "    \n",
    "        \n",
    "        "
   ]
  },
  {
   "cell_type": "markdown",
   "id": "missing-protocol",
   "metadata": {},
   "source": [
    "### Imports    \n",
    "   "
   ]
  },
  {
   "cell_type": "markdown",
   "id": "vanilla-moscow",
   "metadata": {},
   "source": [
    "**Import of the .csv obtained in the previous step, assigned to:**\n",
    "`dataframe`.    \n"
   ]
  },
  {
   "cell_type": "code",
   "execution_count": 2,
   "id": "compatible-pasta",
   "metadata": {},
   "outputs": [],
   "source": [
    "dataframe_GSFA = f2.import_csv(\"data-processed/attacks_updated_v1.csv\")\n",
    "dataframe_ISFA_types = f2.import_xls_to_csv(\"data-inputs/ISAF_attack_type_20192020.xls\")\n",
    "dataframe_ISFA_activity = f2.import_xls_to_csv(\"data-inputs/ISAF_victim_activity_20192020.xls\")"
   ]
  },
  {
   "cell_type": "code",
   "execution_count": 3,
   "id": "tender-knight",
   "metadata": {},
   "outputs": [],
   "source": [
    "df1 = dataframe_GSFA.copy()"
   ]
  },
  {
   "cell_type": "code",
   "execution_count": 4,
   "id": "exterior-salvation",
   "metadata": {
    "scrolled": true
   },
   "outputs": [],
   "source": [
    "df2 = dataframe_ISFA_activity.copy()"
   ]
  },
  {
   "cell_type": "code",
   "execution_count": 5,
   "id": "loose-private",
   "metadata": {},
   "outputs": [],
   "source": [
    "df3 = dataframe_ISFA_types.copy()"
   ]
  },
  {
   "cell_type": "markdown",
   "id": "sharp-suicide",
   "metadata": {},
   "source": [
    "   \n",
    "      \n",
    "      "
   ]
  },
  {
   "cell_type": "markdown",
   "id": "northern-logan",
   "metadata": {},
   "source": [
    "   \n",
    "      \n",
    "      "
   ]
  },
  {
   "cell_type": "markdown",
   "id": "documentary-bronze",
   "metadata": {},
   "source": [
    "### Data Formatting   \n",
    "   \n"
   ]
  },
  {
   "cell_type": "markdown",
   "id": "posted-quarterly",
   "metadata": {},
   "source": [
    "   \n",
    "      \n",
    "      "
   ]
  },
  {
   "cell_type": "markdown",
   "id": "serial-advance",
   "metadata": {},
   "source": [
    "**Slicing dataframe to obtain wanted columns**"
   ]
  },
  {
   "cell_type": "markdown",
   "id": "straight-sheffield",
   "metadata": {},
   "source": [
    "   \n",
    "      \n",
    "      "
   ]
  },
  {
   "cell_type": "code",
   "execution_count": 6,
   "id": "domestic-tamil",
   "metadata": {},
   "outputs": [],
   "source": [
    "df1=df1.loc[df1['year']==2019]"
   ]
  },
  {
   "cell_type": "code",
   "execution_count": 7,
   "id": "painful-retirement",
   "metadata": {},
   "outputs": [],
   "source": [
    "df2019= df1[['type','activity','fatal']].reset_index(drop=True)"
   ]
  },
  {
   "cell_type": "markdown",
   "id": "gentle-canvas",
   "metadata": {},
   "source": [
    "   \n",
    "      \n",
    "      "
   ]
  },
  {
   "cell_type": "markdown",
   "id": "bored-matter",
   "metadata": {},
   "source": [
    "   \n",
    "      \n",
    "      "
   ]
  },
  {
   "cell_type": "markdown",
   "id": "separated-gibson",
   "metadata": {},
   "source": [
    "**Changing column names and `dtypes`**"
   ]
  },
  {
   "cell_type": "markdown",
   "id": "confidential-permission",
   "metadata": {},
   "source": [
    "   \n",
    "      \n",
    "      "
   ]
  },
  {
   "cell_type": "code",
   "execution_count": 8,
   "id": "ambient-accessory",
   "metadata": {},
   "outputs": [],
   "source": [
    "df2019['fatal'] = df2019['fatal'].replace(['N','Y','UNKNOWN',' N','F','2017','y','M','Y x 2','N '],['NO','YES','UNKNOWN','NO','YES','INVALID','YES','INVALID','INVALID','NO'])\n",
    "df2019 = df2019.rename(columns = {'type':'attack'})\n",
    "df2 = df2.rename(columns ={'2019_percent':'perc2019', '2020_percent':'perc2020'})\n",
    "df3 = df3.rename(columns ={'attack_type':'attack','2019_count':'count2019', '2020_count':'count2020'})\n",
    "df2.perc2019 = df2.perc2019*100\n",
    "df2.perc2020 = df2.perc2020*100"
   ]
  },
  {
   "cell_type": "code",
   "execution_count": 9,
   "id": "corporate-tuner",
   "metadata": {},
   "outputs": [],
   "source": [
    "df2019 = df2019.astype({'attack':'category','activity':'category','fatal':'category'})\n",
    "df2[['perc2019']]= df2['perc2019'].astype('int64')\n",
    "df2[['perc2020']]= df2['perc2020'].astype('int64')\n",
    "df2 = df2.astype({'victim_activity':'category'})\n",
    "df3 = df3.astype({'attack':'category'})"
   ]
  },
  {
   "cell_type": "code",
   "execution_count": 10,
   "id": "cooperative-remedy",
   "metadata": {},
   "outputs": [
    {
     "data": {
      "text/plain": [
       "attack      category\n",
       "activity    category\n",
       "fatal       category\n",
       "dtype: object"
      ]
     },
     "execution_count": 10,
     "metadata": {},
     "output_type": "execute_result"
    }
   ],
   "source": [
    "df2019.dtypes   \n",
    "      \n",
    "      "
   ]
  },
  {
   "cell_type": "markdown",
   "id": "loose-struggle",
   "metadata": {},
   "source": [
    "   \n",
    "      \n",
    "      "
   ]
  },
  {
   "cell_type": "markdown",
   "id": "egyptian-competition",
   "metadata": {},
   "source": [
    "   \n",
    "      \n",
    "      "
   ]
  },
  {
   "cell_type": "markdown",
   "id": "particular-minimum",
   "metadata": {},
   "source": [
    "**Exploring patterns**"
   ]
  },
  {
   "cell_type": "markdown",
   "id": "meaningful-plane",
   "metadata": {},
   "source": [
    "   \n",
    "      \n",
    "      "
   ]
  },
  {
   "cell_type": "code",
   "execution_count": 11,
   "id": "absent-naples",
   "metadata": {},
   "outputs": [
    {
     "data": {
      "text/plain": [
       "attack      activity                  fatal\n",
       "Unprovoked  Surfing                   NO       28\n",
       "            Swimming                  NO       12\n",
       "            Spearfishing              NO        7\n",
       "            Snorkeling                NO        6\n",
       "            Boogie boarding           NO        4\n",
       "            Scuba diving              NO        2\n",
       "            Standing                  NO        2\n",
       "            Wading                    NO        2\n",
       "            Fishing                   YES       2\n",
       "            Kayaking                  NO        1\n",
       "            Surf skiing               NO        1\n",
       "            Swimming/ Treading water  NO        1\n",
       "            Swimming with sharks      NO        1\n",
       "            Swimming                  YES       1\n",
       "            Body Surfing              NO        1\n",
       "            Surfing                   YES       1\n",
       "            Body-surfing              NO        1\n",
       "            Fishing                   NO        1\n",
       "            Paddle boarding           NO        1\n",
       "            Stand-Up Paddleboarding   NO        1\n",
       "            Spearfishing / Diving     NO        1\n",
       "            Spearfishing              YES       1\n",
       "            Body Boarding             NO        1\n",
       "            Snorkeling                YES       1\n",
       "            Free diving               NO        1\n",
       "            Abalone diving            NO        1\n",
       "dtype: int64"
      ]
     },
     "execution_count": 11,
     "metadata": {},
     "output_type": "execute_result"
    }
   ],
   "source": [
    "testing_unprov = df2019[df2019['attack']=='Unprovoked']\n",
    "testing_unprov.value_counts()"
   ]
  },
  {
   "cell_type": "code",
   "execution_count": 12,
   "id": "featured-express",
   "metadata": {},
   "outputs": [
    {
     "data": {
      "text/plain": [
       "attack        activity                     fatal\n",
       "Unprovoked    Surfing                      NO       28\n",
       "              Swimming                     NO       12\n",
       "              Spearfishing                 NO        7\n",
       "              Snorkeling                   NO        6\n",
       "Provoked      Fishing                      NO        5\n",
       "Unprovoked    Boogie boarding              NO        4\n",
       "              Scuba diving                 NO        2\n",
       "Provoked      Surfing                      NO        2\n",
       "Unprovoked    Standing                     NO        2\n",
       "              Wading                       NO        2\n",
       "              Spearfishing / Diving        NO        1\n",
       "              Stand-Up Paddleboarding      NO        1\n",
       "              Surf skiing                  NO        1\n",
       "Invalid       Boogie boarding              NO        1\n",
       "Unprovoked    Swimming/ Treading water     NO        1\n",
       "Unverified    Surfing                      NO        1\n",
       "Watercraft    Fishing                      NO        1\n",
       "              Kayaking                     NO        1\n",
       "              Kayaking fishing             NO        1\n",
       "Unprovoked    Swimming with sharks         NO        1\n",
       "              Paddle boarding              NO        1\n",
       "Invalid       Wading                       NO        1\n",
       "Unprovoked    Kayaking                     NO        1\n",
       "              Free diving                  NO        1\n",
       "              Fishing                      NO        1\n",
       "              Body-surfing                 NO        1\n",
       "              Body Surfing                 NO        1\n",
       "              Body Boarding                NO        1\n",
       "              Abalone diving               NO        1\n",
       "Questionable  Picking opihi                NO        1\n",
       "              Boogie boarding              NO        1\n",
       "Provoked      Fishing                      NO        1\n",
       "              Feeding sharks               NO        1\n",
       "              Diving in shark tank         NO        1\n",
       "Watercraft    Paddling an outrigger canoe  NO        1\n",
       "dtype: int64"
      ]
     },
     "execution_count": 12,
     "metadata": {},
     "output_type": "execute_result"
    }
   ],
   "source": [
    "testing_fatal = df2019[df2019.fatal=='NO']\n",
    "testing_fatal.value_counts()"
   ]
  },
  {
   "cell_type": "code",
   "execution_count": 13,
   "id": "empty-craps",
   "metadata": {},
   "outputs": [
    {
     "data": {
      "text/plain": [
       "109"
      ]
     },
     "execution_count": 13,
     "metadata": {},
     "output_type": "execute_result"
    }
   ],
   "source": [
    "df2019['activity'].count()"
   ]
  },
  {
   "cell_type": "code",
   "execution_count": 14,
   "id": "impossible-manhattan",
   "metadata": {},
   "outputs": [
    {
     "data": {
      "text/plain": [
       "NO     98\n",
       "YES     9\n",
       "Name: fatal, dtype: int64"
      ]
     },
     "execution_count": 14,
     "metadata": {},
     "output_type": "execute_result"
    }
   ],
   "source": [
    "df2019.fatal.value_counts()"
   ]
  },
  {
   "cell_type": "code",
   "execution_count": 15,
   "id": "administrative-heavy",
   "metadata": {},
   "outputs": [
    {
     "data": {
      "text/plain": [
       "Unprovoked      88\n",
       "Provoked        11\n",
       "Questionable     5\n",
       "Watercraft       4\n",
       "Invalid          2\n",
       "Unconfirmed      1\n",
       "Unverified       1\n",
       "Name: attack, dtype: int64"
      ]
     },
     "execution_count": 15,
     "metadata": {},
     "output_type": "execute_result"
    }
   ],
   "source": [
    "df2019.attack.value_counts()"
   ]
  },
  {
   "cell_type": "code",
   "execution_count": 16,
   "id": "cubic-boutique",
   "metadata": {
    "scrolled": true
   },
   "outputs": [
    {
     "data": {
      "text/plain": [
       "victim_activity         perc2019  perc2020\n",
       "Body surfing/horseplay  8         5           1\n",
       "Scuba                   3         3           1\n",
       "Snorkeling/free-diving  11        3           1\n",
       "Surfing/board sports    53        61          1\n",
       "Swimming/wading         25        26          1\n",
       "dtype: int64"
      ]
     },
     "execution_count": 16,
     "metadata": {},
     "output_type": "execute_result"
    }
   ],
   "source": [
    "df2.value_counts()"
   ]
  },
  {
   "cell_type": "code",
   "execution_count": 17,
   "id": "fuzzy-villa",
   "metadata": {},
   "outputs": [
    {
     "data": {
      "text/plain": [
       "Surfing                        32\n",
       "Swimming                       13\n",
       "Snorkeling                     11\n",
       "Fishing                        10\n",
       "Spearfishing                    9\n",
       "Boogie boarding                 6\n",
       "Wading                          3\n",
       "Kayaking                        3\n",
       "Scuba diving                    2\n",
       "Standing                        2\n",
       "Swimming/ Treading water        1\n",
       "Swimming with sharks            1\n",
       "Surf skiing                     1\n",
       "Stand-Up Paddleboarding         1\n",
       "Spearfishing / Diving           1\n",
       "Abalone diving                  1\n",
       "Picking opihi                   1\n",
       "Body Boarding                   1\n",
       "Paddle boarding                 1\n",
       "Kayaking fishing                1\n",
       "Free diving                     1\n",
       "Fishing                         1\n",
       "Feeding sharks                  1\n",
       "Diving in shark tank            1\n",
       "Diving                          1\n",
       "Body-surfing                    1\n",
       "Body Surfing                    1\n",
       "Paddling an outrigger canoe     1\n",
       "Name: activity, dtype: int64"
      ]
     },
     "execution_count": 17,
     "metadata": {},
     "output_type": "execute_result"
    }
   ],
   "source": [
    "df2019.activity.value_counts()"
   ]
  },
  {
   "cell_type": "code",
   "execution_count": 18,
   "id": "rotary-public",
   "metadata": {
    "scrolled": true
   },
   "outputs": [],
   "source": [
    "to_be_renamed = list(df2019.activity.unique())"
   ]
  },
  {
   "cell_type": "markdown",
   "id": "figured-beatles",
   "metadata": {},
   "source": [
    "Swimming/ Treading water        1\n",
    "Swimming with sharks            1\n",
    "Surf skiing                     1\n",
    "Stand-Up Paddleboarding         1\n",
    "Spearfishing / Diving           1\n",
    "Abalone diving                  1\n",
    "Picking opihi                   1\n",
    "Body Boarding                   1\n",
    "Paddle boarding                 1\n",
    "Kayaking fishing                1\n",
    "Free diving                     1\n",
    "Fishing                         1\n",
    "Feeding sharks                  1\n",
    "Diving in shark tank            1\n",
    "Diving                          1\n",
    "Body-surfing                    1\n",
    "Body Surfing                    1\n",
    "Paddling an outrigger canoe     1"
   ]
  },
  {
   "cell_type": "markdown",
   "id": "comprehensive-climb",
   "metadata": {},
   "source": [
    "Swimming/wading\n",
    "'Swimming/ Treading water',\n",
    "'Swimming',\n",
    "'Wading'\n"
   ]
  },
  {
   "cell_type": "markdown",
   "id": "soviet-denial",
   "metadata": {},
   "source": [
    "Surfing/board sports\n",
    "'Surf skiing ',\n",
    "'Boogie boarding',\n",
    " 'Surfing','Stand-Up Paddleboarding',\n",
    " 'Spearfishing'"
   ]
  },
  {
   "cell_type": "markdown",
   "id": "narrow-graphics",
   "metadata": {},
   "source": [
    "Body surfing/horseplay\n",
    "'Body-surfing'\n",
    "'Body Surfing'\n",
    "'Body Boarding'"
   ]
  },
  {
   "cell_type": "markdown",
   "id": "absent-welcome",
   "metadata": {},
   "source": [
    "Snorkeling/free-diving \n",
    "'Free diving',\n",
    "'Snorkeling',"
   ]
  },
  {
   "cell_type": "markdown",
   "id": "careful-radar",
   "metadata": {},
   "source": [
    "Scuba\n",
    "'Scuba diving'"
   ]
  },
  {
   "cell_type": "code",
   "execution_count": 19,
   "id": "renewable-letters",
   "metadata": {},
   "outputs": [
    {
     "data": {
      "text/plain": [
       "['Swimming',\n",
       " 'Spearfishing',\n",
       " 'Surf skiing ',\n",
       " 'Boogie boarding',\n",
       " 'Surfing',\n",
       " 'Fishing',\n",
       " 'Kayaking',\n",
       " 'Free diving',\n",
       " 'Stand-Up Paddleboarding',\n",
       " 'Snorkeling',\n",
       " 'Feeding sharks',\n",
       " 'Kayaking fishing',\n",
       " nan,\n",
       " 'Wading',\n",
       " 'Swimming/ Treading water',\n",
       " 'Standing',\n",
       " 'Spearfishing / Diving',\n",
       " 'Fishing ',\n",
       " 'Scuba diving',\n",
       " 'Diving',\n",
       " 'Body-surfing',\n",
       " 'Paddle boarding',\n",
       " 'Abalone diving',\n",
       " 'Body Boarding',\n",
       " 'Body Surfing',\n",
       " 'Swimming with sharks',\n",
       " 'Picking opihi',\n",
       " 'Diving in shark tank',\n",
       " 'Paddling an outrigger canoe']"
      ]
     },
     "execution_count": 19,
     "metadata": {},
     "output_type": "execute_result"
    }
   ],
   "source": [
    "to_be_renamed"
   ]
  },
  {
   "cell_type": "code",
   "execution_count": 20,
   "id": "meaningful-cliff",
   "metadata": {},
   "outputs": [
    {
     "data": {
      "text/plain": [
       "<AxesSubplot:xlabel='attack', ylabel='count'>"
      ]
     },
     "execution_count": 20,
     "metadata": {},
     "output_type": "execute_result"
    },
    {
     "data": {
      "image/png": "[encoded data removed]",
      "text/plain": [
       "<Figure size 432x288 with 1 Axes>"
      ]
     },
     "metadata": {
      "needs_background": "light"
     },
     "output_type": "display_data"
    }
   ],
   "source": [
    "sns.countplot(x=df2019.attack)"
   ]
  },
  {
   "cell_type": "code",
   "execution_count": 21,
   "id": "purple-freeware",
   "metadata": {},
   "outputs": [
    {
     "data": {
      "text/plain": [
       "Unprovoked      88\n",
       "Provoked        11\n",
       "Questionable     5\n",
       "Watercraft       4\n",
       "Invalid          2\n",
       "Unconfirmed      1\n",
       "Unverified       1\n",
       "Name: attack, dtype: int64"
      ]
     },
     "execution_count": 21,
     "metadata": {},
     "output_type": "execute_result"
    }
   ],
   "source": [
    "df2019.attack.value_counts()"
   ]
  },
  {
   "cell_type": "code",
   "execution_count": 22,
   "id": "final-steps",
   "metadata": {},
   "outputs": [
    {
     "data": {
      "text/plain": [
       "<AxesSubplot:xlabel='activity', ylabel='count'>"
      ]
     },
     "execution_count": 22,
     "metadata": {},
     "output_type": "execute_result"
    },
    {
     "data": {
      "image/png": "[encoded data removed]",
      "text/plain": [
       "<Figure size 432x288 with 1 Axes>"
      ]
     },
     "metadata": {
      "needs_background": "light"
     },
     "output_type": "display_data"
    }
   ],
   "source": [
    "sns.countplot(x=df2019.activity)"
   ]
  },
  {
   "cell_type": "code",
   "execution_count": 23,
   "id": "south-timer",
   "metadata": {},
   "outputs": [
    {
     "data": {
      "text/plain": [
       "['Unprovoked', 'Provoked', 'Questionable', 'Watercraft', 'Unconfirmed', 'Unverified', 'Invalid']\n",
       "Categories (7, object): ['Unprovoked', 'Provoked', 'Questionable', 'Watercraft', 'Unconfirmed', 'Unverified', 'Invalid']"
      ]
     },
     "execution_count": 23,
     "metadata": {},
     "output_type": "execute_result"
    }
   ],
   "source": [
    "df2019.attack.unique()"
   ]
  },
  {
   "cell_type": "code",
   "execution_count": 24,
   "id": "martial-campbell",
   "metadata": {},
   "outputs": [],
   "source": [
    "df3.attack = df3['attack'].replace(['Unprovoked attacks','Provoked attacks','Boat attacks','Not confirmed','NaN','Doubtful','Scavenge','Public aquaria'],['Unprovoked','Provoked','Watercraft','Unconfirmed','Invalid','Questionable','Questionable','Questionable'])"
   ]
  },
  {
   "cell_type": "code",
   "execution_count": 33,
   "id": "harmful-queue",
   "metadata": {},
   "outputs": [
    {
     "data": {
      "text/plain": [
       "<AxesSubplot:xlabel='attack', ylabel='count'>"
      ]
     },
     "execution_count": 33,
     "metadata": {},
     "output_type": "execute_result"
    },
    {
     "data": {
      "image/png": "[encoded data removed]",
      "text/plain": [
       "<Figure size 432x288 with 1 Axes>"
      ]
     },
     "metadata": {
      "needs_background": "light"
     },
     "output_type": "display_data"
    }
   ],
   "source": [
    "sns.countplot(x=df2019.attack)"
   ]
  },
  {
   "cell_type": "code",
   "execution_count": 34,
   "id": "eligible-moisture",
   "metadata": {
    "scrolled": true
   },
   "outputs": [
    {
     "data": {
      "text/plain": [
       "<AxesSubplot:xlabel='attack', ylabel='count'>"
      ]
     },
     "execution_count": 34,
     "metadata": {},
     "output_type": "execute_result"
    },
    {
     "data": {
      "image/png": "[encoded data removed]",
      "text/plain": [
       "<Figure size 432x288 with 1 Axes>"
      ]
     },
     "metadata": {
      "needs_background": "light"
     },
     "output_type": "display_data"
    }
   ],
   "source": [
    "sns.countplot(x=df3.attack)"
   ]
  },
  {
   "cell_type": "code",
   "execution_count": 25,
   "id": "packed-correlation",
   "metadata": {
    "scrolled": false
   },
   "outputs": [
    {
     "data": {
      "text/html": [
       "<div>\n",
       "<style scoped>\n",
       "    .dataframe tbody tr th:only-of-type {\n",
       "        vertical-align: middle;\n",
       "    }\n",
       "\n",
       "    .dataframe tbody tr th {\n",
       "        vertical-align: top;\n",
       "    }\n",
       "\n",
       "    .dataframe thead th {\n",
       "        text-align: right;\n",
       "    }\n",
       "</style>\n",
       "<table border=\"1\" class=\"dataframe\">\n",
       "  <thead>\n",
       "    <tr style=\"text-align: right;\">\n",
       "      <th></th>\n",
       "      <th>attack</th>\n",
       "      <th>count2019</th>\n",
       "      <th>count2020</th>\n",
       "    </tr>\n",
       "  </thead>\n",
       "  <tbody>\n",
       "    <tr>\n",
       "      <th>0</th>\n",
       "      <td>Unprovoked</td>\n",
       "      <td>64</td>\n",
       "      <td>57</td>\n",
       "    </tr>\n",
       "    <tr>\n",
       "      <th>1</th>\n",
       "      <td>Provoked</td>\n",
       "      <td>41</td>\n",
       "      <td>39</td>\n",
       "    </tr>\n",
       "    <tr>\n",
       "      <th>2</th>\n",
       "      <td>Watercraft</td>\n",
       "      <td>12</td>\n",
       "      <td>6</td>\n",
       "    </tr>\n",
       "    <tr>\n",
       "      <th>3</th>\n",
       "      <td>Questionable</td>\n",
       "      <td>1</td>\n",
       "      <td>1</td>\n",
       "    </tr>\n",
       "    <tr>\n",
       "      <th>4</th>\n",
       "      <td>Questionable</td>\n",
       "      <td>1</td>\n",
       "      <td>1</td>\n",
       "    </tr>\n",
       "    <tr>\n",
       "      <th>5</th>\n",
       "      <td>Questionable</td>\n",
       "      <td>3</td>\n",
       "      <td>3</td>\n",
       "    </tr>\n",
       "    <tr>\n",
       "      <th>6</th>\n",
       "      <td>NaN</td>\n",
       "      <td>9</td>\n",
       "      <td>6</td>\n",
       "    </tr>\n",
       "    <tr>\n",
       "      <th>7</th>\n",
       "      <td>Unconfirmed</td>\n",
       "      <td>9</td>\n",
       "      <td>16</td>\n",
       "    </tr>\n",
       "    <tr>\n",
       "      <th>8</th>\n",
       "      <td>Unprovoked fatal cases</td>\n",
       "      <td>2</td>\n",
       "      <td>10</td>\n",
       "    </tr>\n",
       "    <tr>\n",
       "      <th>9</th>\n",
       "      <td>Total cases</td>\n",
       "      <td>140</td>\n",
       "      <td>129</td>\n",
       "    </tr>\n",
       "  </tbody>\n",
       "</table>\n",
       "</div>"
      ],
      "text/plain": [
       "                   attack  count2019  count2020\n",
       "0              Unprovoked         64         57\n",
       "1                Provoked         41         39\n",
       "2              Watercraft         12          6\n",
       "3            Questionable          1          1\n",
       "4            Questionable          1          1\n",
       "5            Questionable          3          3\n",
       "6                     NaN          9          6\n",
       "7             Unconfirmed          9         16\n",
       "8  Unprovoked fatal cases          2         10\n",
       "9             Total cases        140        129"
      ]
     },
     "execution_count": 25,
     "metadata": {},
     "output_type": "execute_result"
    }
   ],
   "source": [
    "df3"
   ]
  },
  {
   "cell_type": "code",
   "execution_count": null,
   "id": "amber-climate",
   "metadata": {
    "scrolled": true
   },
   "outputs": [],
   "source": []
  },
  {
   "cell_type": "code",
   "execution_count": null,
   "id": "determined-latex",
   "metadata": {},
   "outputs": [],
   "source": []
  },
  {
   "cell_type": "markdown",
   "id": "opposite-opinion",
   "metadata": {},
   "source": [
    "     \n",
    "          \n",
    "           "
   ]
  },
  {
   "cell_type": "markdown",
   "id": "charming-sleep",
   "metadata": {},
   "source": [
    "**R**"
   ]
  },
  {
   "cell_type": "code",
   "execution_count": 26,
   "id": "developing-fruit",
   "metadata": {},
   "outputs": [
    {
     "ename": "NameError",
     "evalue": "name 'datafr' is not defined",
     "output_type": "error",
     "traceback": [
      "\u001b[0;31m---------------------------------------------------------------------------\u001b[0m",
      "\u001b[0;31mNameError\u001b[0m                                 Traceback (most recent call last)",
      "\u001b[0;32m<ipython-input-26-b1b4d1dfba09>\u001b[0m in \u001b[0;36m<module>\u001b[0;34m\u001b[0m\n\u001b[0;32m----> 1\u001b[0;31m \u001b[0mdatafr\u001b[0m\u001b[0;34m\u001b[0m\u001b[0;34m\u001b[0m\u001b[0m\n\u001b[0m",
      "\u001b[0;31mNameError\u001b[0m: name 'datafr' is not defined"
     ]
    }
   ],
   "source": [
    "datafr"
   ]
  },
  {
   "cell_type": "markdown",
   "id": "intelligent-expert",
   "metadata": {},
   "source": [
    "   \n",
    "   "
   ]
  },
  {
   "cell_type": "markdown",
   "id": "french-doctrine",
   "metadata": {},
   "source": [
    "   \n",
    "   "
   ]
  },
  {
   "cell_type": "markdown",
   "id": "answering-theory",
   "metadata": {},
   "source": [
    "    \n",
    "        \n",
    "        "
   ]
  },
  {
   "cell_type": "markdown",
   "id": "needed-porcelain",
   "metadata": {},
   "source": [
    "### 2.title   \n",
    "   \n"
   ]
  },
  {
   "cell_type": "markdown",
   "id": "australian-census",
   "metadata": {},
   "source": [
    "**p**"
   ]
  },
  {
   "cell_type": "code",
   "execution_count": 27,
   "id": "cubic-river",
   "metadata": {
    "scrolled": true
   },
   "outputs": [
    {
     "ename": "NameError",
     "evalue": "name 'dat' is not defined",
     "output_type": "error",
     "traceback": [
      "\u001b[0;31m---------------------------------------------------------------------------\u001b[0m",
      "\u001b[0;31mNameError\u001b[0m                                 Traceback (most recent call last)",
      "\u001b[0;32m<ipython-input-27-7ad2c836519b>\u001b[0m in \u001b[0;36m<module>\u001b[0;34m\u001b[0m\n\u001b[0;32m----> 1\u001b[0;31m \u001b[0mdat\u001b[0m\u001b[0;34m\u001b[0m\u001b[0;34m\u001b[0m\u001b[0m\n\u001b[0m",
      "\u001b[0;31mNameError\u001b[0m: name 'dat' is not defined"
     ]
    }
   ],
   "source": [
    "dat"
   ]
  },
  {
   "cell_type": "markdown",
   "id": "arbitrary-parts",
   "metadata": {},
   "source": [
    "    \n",
    "         \n",
    "           "
   ]
  },
  {
   "cell_type": "markdown",
   "id": "official-apollo",
   "metadata": {},
   "source": [
    "**Dr.**"
   ]
  },
  {
   "cell_type": "code",
   "execution_count": 28,
   "id": "boxed-broadway",
   "metadata": {},
   "outputs": [
    {
     "ename": "NameError",
     "evalue": "name 'dr' is not defined",
     "output_type": "error",
     "traceback": [
      "\u001b[0;31m---------------------------------------------------------------------------\u001b[0m",
      "\u001b[0;31mNameError\u001b[0m                                 Traceback (most recent call last)",
      "\u001b[0;32m<ipython-input-28-fa19aceefe18>\u001b[0m in \u001b[0;36m<module>\u001b[0;34m\u001b[0m\n\u001b[0;32m----> 1\u001b[0;31m \u001b[0mdr\u001b[0m\u001b[0;34m\u001b[0m\u001b[0;34m\u001b[0m\u001b[0m\n\u001b[0m",
      "\u001b[0;31mNameError\u001b[0m: name 'dr' is not defined"
     ]
    }
   ],
   "source": [
    "dr"
   ]
  },
  {
   "cell_type": "code",
   "execution_count": 29,
   "id": "systematic-biotechnology",
   "metadata": {
    "scrolled": true
   },
   "outputs": [
    {
     "ename": "NameError",
     "evalue": "name 'f' is not defined",
     "output_type": "error",
     "traceback": [
      "\u001b[0;31m---------------------------------------------------------------------------\u001b[0m",
      "\u001b[0;31mNameError\u001b[0m                                 Traceback (most recent call last)",
      "\u001b[0;32m<ipython-input-29-a9fcd54b25e7>\u001b[0m in \u001b[0;36m<module>\u001b[0;34m\u001b[0m\n\u001b[0;32m----> 1\u001b[0;31m \u001b[0mf\u001b[0m\u001b[0;34m\u001b[0m\u001b[0;34m\u001b[0m\u001b[0m\n\u001b[0m",
      "\u001b[0;31mNameError\u001b[0m: name 'f' is not defined"
     ]
    }
   ],
   "source": [
    "f"
   ]
  },
  {
   "cell_type": "markdown",
   "id": "governing-identity",
   "metadata": {},
   "source": [
    "      \n",
    "           \n",
    "           "
   ]
  },
  {
   "cell_type": "markdown",
   "id": "closing-humanitarian",
   "metadata": {},
   "source": [
    "**Q**"
   ]
  },
  {
   "cell_type": "code",
   "execution_count": 30,
   "id": "correct-dominican",
   "metadata": {
    "scrolled": true
   },
   "outputs": [
    {
     "ename": "NameError",
     "evalue": "name 'da' is not defined",
     "output_type": "error",
     "traceback": [
      "\u001b[0;31m---------------------------------------------------------------------------\u001b[0m",
      "\u001b[0;31mNameError\u001b[0m                                 Traceback (most recent call last)",
      "\u001b[0;32m<ipython-input-30-948bfaaa301d>\u001b[0m in \u001b[0;36m<module>\u001b[0;34m\u001b[0m\n\u001b[0;32m----> 1\u001b[0;31m \u001b[0mda\u001b[0m\u001b[0;34m\u001b[0m\u001b[0;34m\u001b[0m\u001b[0m\n\u001b[0m",
      "\u001b[0;31mNameError\u001b[0m: name 'da' is not defined"
     ]
    }
   ],
   "source": [
    "da"
   ]
  },
  {
   "cell_type": "markdown",
   "id": "former-poker",
   "metadata": {},
   "source": [
    "    \n",
    "        \n",
    "        "
   ]
  },
  {
   "cell_type": "markdown",
   "id": "chinese-television",
   "metadata": {},
   "source": [
    "    \n",
    "        \n",
    "        "
   ]
  },
  {
   "cell_type": "markdown",
   "id": "foster-printing",
   "metadata": {},
   "source": [
    "### 3.title\n",
    "        \n",
    "        "
   ]
  },
  {
   "cell_type": "markdown",
   "id": "painted-rogers",
   "metadata": {},
   "source": [
    "**Es:**"
   ]
  },
  {
   "cell_type": "code",
   "execution_count": 31,
   "id": "amended-congress",
   "metadata": {
    "scrolled": false
   },
   "outputs": [
    {
     "ename": "NameError",
     "evalue": "name 'f1' is not defined",
     "output_type": "error",
     "traceback": [
      "\u001b[0;31m---------------------------------------------------------------------------\u001b[0m",
      "\u001b[0;31mNameError\u001b[0m                                 Traceback (most recent call last)",
      "\u001b[0;32m<ipython-input-31-530e0dc013ae>\u001b[0m in \u001b[0;36m<module>\u001b[0;34m\u001b[0m\n\u001b[0;32m----> 1\u001b[0;31m \u001b[0mdf\u001b[0m \u001b[0;34m=\u001b[0m \u001b[0mf1\u001b[0m\u001b[0;34m.\u001b[0m\u001b[0mexport_df_to_csv_and_check\u001b[0m \u001b[0;34m(\u001b[0m\u001b[0mdata2\u001b[0m\u001b[0;34m)\u001b[0m\u001b[0;34m\u001b[0m\u001b[0;34m\u001b[0m\u001b[0m\n\u001b[0m",
      "\u001b[0;31mNameError\u001b[0m: name 'f1' is not defined"
     ]
    }
   ],
   "source": [
    "df = f1.export_df_to_csv_and_check (data2)"
   ]
  },
  {
   "cell_type": "markdown",
   "id": "optical-services",
   "metadata": {},
   "source": [
    "  \n",
    "    \n",
    "      "
   ]
  },
  {
   "cell_type": "markdown",
   "id": "racial-cedar",
   "metadata": {},
   "source": [
    "  \n",
    "    \n",
    "       "
   ]
  },
  {
   "cell_type": "markdown",
   "id": "fiscal-future",
   "metadata": {},
   "source": [
    "   \n",
    "     \n",
    "       \n",
    "       "
   ]
  },
  {
   "cell_type": "markdown",
   "id": "collaborative-humanitarian",
   "metadata": {},
   "source": [
    "   \n",
    "      \n",
    "        "
   ]
  }
 ],
 "metadata": {
  "kernelspec": {
   "display_name": "Python 3",
   "language": "python",
   "name": "python3"
  },
  "language_info": {
   "codemirror_mode": {
    "name": "ipython",
    "version": 3
   },
   "file_extension": ".py",
   "mimetype": "text/x-python",
   "name": "python",
   "nbconvert_exporter": "python",
   "pygments_lexer": "ipython3",
   "version": "3.8.5"
  },
  "toc": {
   "base_numbering": "1.",
   "nav_menu": {},
   "number_sections": true,
   "sideBar": true,
   "skip_h1_title": false,
   "title_cell": "2: Data Hypothesis & Preparation",
   "title_sidebar": "Table of Content",
   "toc_cell": true,
   "toc_position": {
    "height": "calc(100% - 180px)",
    "left": "10px",
    "top": "150px",
    "width": "211.989px"
   },
   "toc_section_display": true,
   "toc_window_display": false
  },
  "varInspector": {
   "cols": {
    "lenName": 16,
    "lenType": 16,
    "lenVar": 40
   },
   "kernels_config": {
    "python": {
     "delete_cmd_postfix": "",
     "delete_cmd_prefix": "del ",
     "library": "var_list.py",
     "varRefreshCmd": "print(var_dic_list())"
    },
    "r": {
     "delete_cmd_postfix": ") ",
     "delete_cmd_prefix": "rm(",
     "library": "var_list.r",
     "varRefreshCmd": "cat(var_dic_list()) "
    }
   },
   "types_to_exclude": [
    "module",
    "function",
    "builtin_function_or_method",
    "instance",
    "_Feature"
   ],
   "window_display": false
  }
 },
 "nbformat": 4,
 "nbformat_minor": 5
}
