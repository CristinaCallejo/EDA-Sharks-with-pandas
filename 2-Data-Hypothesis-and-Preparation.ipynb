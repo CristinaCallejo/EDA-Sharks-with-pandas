{
 "cells": [
  {
   "cell_type": "markdown",
   "id": "becoming-monte",
   "metadata": {
    "toc": true
   },
   "source": [
    "<h1>2: Data Hypothesis &amp; Preparation<span class=\"tocSkip\"></span></h1>\n",
    "<div class=\"toc\"><ul class=\"toc-item\"><li><span><a href=\"#Imports\" data-toc-modified-id=\"Imports-1\"><span class=\"toc-item-num\">1&nbsp;&nbsp;</span>Imports</a></span></li><li><span><a href=\"#2.title\" data-toc-modified-id=\"2.title-2\"><span class=\"toc-item-num\">2&nbsp;&nbsp;</span>2.title</a></span></li><li><span><a href=\"#3.title\" data-toc-modified-id=\"3.title-3\"><span class=\"toc-item-num\">3&nbsp;&nbsp;</span>3.title</a></span></li></ul></div>"
   ]
  },
  {
   "cell_type": "code",
   "execution_count": 1,
   "id": "broad-collect",
   "metadata": {},
   "outputs": [],
   "source": [
    "import pandas as pd\n",
    "import numpy as np\n",
    "import sys\n",
    "import src.code2_data_preparation as f2\n",
    "# pip install xlrd"
   ]
  },
  {
   "cell_type": "markdown",
   "id": "designed-asbestos",
   "metadata": {},
   "source": [
    "\n"
   ]
  },
  {
   "cell_type": "markdown",
   "id": "hawaiian-expression",
   "metadata": {},
   "source": [
    "    \n",
    "        \n",
    "        "
   ]
  },
  {
   "cell_type": "markdown",
   "id": "material-zoning",
   "metadata": {},
   "source": [
    "    \n",
    "        \n",
    "        "
   ]
  },
  {
   "cell_type": "markdown",
   "id": "missing-protocol",
   "metadata": {},
   "source": [
    "### Imports    \n",
    "   "
   ]
  },
  {
   "cell_type": "markdown",
   "id": "vanilla-moscow",
   "metadata": {},
   "source": [
    "**Import of the .csv obtained in the previous step, assigned to:**\n",
    "`dataframe`.    \n"
   ]
  },
  {
   "cell_type": "code",
   "execution_count": 2,
   "id": "compatible-pasta",
   "metadata": {},
   "outputs": [],
   "source": [
    "dataframe_GSFA = f2.import_csv(\"data-processed/attacks_updated_v1.csv\")\n",
    "dataframe_ISFA_types = f2.import_xls_to_csv(\"data-inputs/ISAF_attack_type_20192020.xls\")\n",
    "dataframe_ISFA_activity = f2.import_xls_to_csv(\"data-inputs/ISAF_victim_activity_20192020.xls\")"
   ]
  },
  {
   "cell_type": "code",
   "execution_count": null,
   "id": "ordinary-cowboy",
   "metadata": {},
   "outputs": [],
   "source": [
    "dftypes = dataframe_ISFA_types.copy()"
   ]
  },
  {
   "cell_type": "code",
   "execution_count": null,
   "id": "fiscal-picnic",
   "metadata": {
    "scrolled": true
   },
   "outputs": [],
   "source": [
    "dfactivities = dataframe_ISFA_activity.copy()"
   ]
  },
  {
   "cell_type": "code",
   "execution_count": 3,
   "id": "restricted-conjunction",
   "metadata": {},
   "outputs": [],
   "source": [
    "df = dataframe_GSFA.copy()"
   ]
  },
  {
   "cell_type": "markdown",
   "id": "sharp-suicide",
   "metadata": {},
   "source": [
    "   \n",
    "      \n",
    "      "
   ]
  },
  {
   "cell_type": "markdown",
   "id": "lyric-cathedral",
   "metadata": {},
   "source": [
    "**t.**"
   ]
  },
  {
   "cell_type": "code",
   "execution_count": 26,
   "id": "blank-anthony",
   "metadata": {
    "scrolled": false
   },
   "outputs": [
    {
     "data": {
      "text/plain": [
       "Index(['case_number', 'date', 'year', 'type', 'country', 'area', 'location',\n",
       "       'activity', 'name', 'sex', 'age', 'injury', 'fatal', 'time', 'species'],\n",
       "      dtype='object')"
      ]
     },
     "execution_count": 26,
     "metadata": {},
     "output_type": "execute_result"
    }
   ],
   "source": [
    "df.columns.any() == 'object'\n",
    "cols= df.columns\n",
    "cols"
   ]
  },
  {
   "cell_type": "code",
   "execution_count": 31,
   "id": "fifteen-contents",
   "metadata": {},
   "outputs": [
    {
     "name": "stdout",
     "output_type": "stream",
     "text": [
      "case_number\n",
      "date\n",
      "year\n",
      "type\n",
      "country\n",
      "area\n",
      "location\n",
      "activity\n",
      "name\n",
      "sex\n",
      "age\n",
      "injury\n",
      "fatal\n",
      "time\n",
      "species\n"
     ]
    }
   ],
   "source": [
    "for col in cols:\n",
    "    print(col)\n",
    "    #if col.dtype == 'object':\n",
    "        #print(col)"
   ]
  },
  {
   "cell_type": "code",
   "execution_count": null,
   "id": "detailed-crest",
   "metadata": {},
   "outputs": [],
   "source": [
    "several_dfs = [dftypes, dfactivities,df]"
   ]
  },
  {
   "cell_type": "code",
   "execution_count": null,
   "id": "located-kingston",
   "metadata": {
    "scrolled": true
   },
   "outputs": [],
   "source": [
    "df.year.isnull().value_counts()"
   ]
  },
  {
   "cell_type": "code",
   "execution_count": null,
   "id": "violent-perception",
   "metadata": {
    "scrolled": false
   },
   "outputs": [],
   "source": [
    "df.year.dtype"
   ]
  },
  {
   "cell_type": "code",
   "execution_count": null,
   "id": "imperial-apollo",
   "metadata": {},
   "outputs": [],
   "source": [
    "df.year= df.year.astype('Int64')"
   ]
  },
  {
   "cell_type": "code",
   "execution_count": null,
   "id": "southern-symphony",
   "metadata": {},
   "outputs": [],
   "source": [
    "df.type = df.type.astype(\"category\")"
   ]
  },
  {
   "cell_type": "code",
   "execution_count": null,
   "id": "canadian-empire",
   "metadata": {},
   "outputs": [],
   "source": [
    "df.fatal = df.fatal.astype(\"category\")"
   ]
  },
  {
   "cell_type": "code",
   "execution_count": null,
   "id": "perfect-print",
   "metadata": {},
   "outputs": [],
   "source": [
    "df['fatal'] = df['fatal'].replace(['N','Y','UNKNOWN',' N','F','2017','y','M','Y x 2','N '],['NO','YES','UNKNOWN','NO','YES','INVALID','YES','INVALID','INVALID','NO'])"
   ]
  },
  {
   "cell_type": "code",
   "execution_count": null,
   "id": "english-escape",
   "metadata": {
    "scrolled": true
   },
   "outputs": [],
   "source": []
  },
  {
   "cell_type": "code",
   "execution_count": null,
   "id": "clear-transition",
   "metadata": {},
   "outputs": [],
   "source": [
    "df.type.dtype"
   ]
  },
  {
   "cell_type": "code",
   "execution_count": null,
   "id": "cardiovascular-colorado",
   "metadata": {},
   "outputs": [],
   "source": [
    "df.type.value_counts()"
   ]
  },
  {
   "cell_type": "code",
   "execution_count": null,
   "id": "perceived-edinburgh",
   "metadata": {},
   "outputs": [],
   "source": [
    "df.fatal.value_counts()"
   ]
  },
  {
   "cell_type": "code",
   "execution_count": null,
   "id": "qualified-midnight",
   "metadata": {},
   "outputs": [],
   "source": [
    "df_new=df.loc[df['year']==2019]"
   ]
  },
  {
   "cell_type": "code",
   "execution_count": null,
   "id": "human-intersection",
   "metadata": {},
   "outputs": [],
   "source": [
    "df_2019= df_new[['type','fatal']]\n",
    "df_2019"
   ]
  },
  {
   "cell_type": "code",
   "execution_count": null,
   "id": "hairy-junction",
   "metadata": {},
   "outputs": [],
   "source": []
  },
  {
   "cell_type": "markdown",
   "id": "opposite-opinion",
   "metadata": {},
   "source": [
    "     \n",
    "          \n",
    "           "
   ]
  },
  {
   "cell_type": "markdown",
   "id": "charming-sleep",
   "metadata": {},
   "source": [
    "**R**"
   ]
  },
  {
   "cell_type": "code",
   "execution_count": null,
   "id": "developing-fruit",
   "metadata": {},
   "outputs": [],
   "source": [
    "dataframe = dataframe_updated.copy()"
   ]
  },
  {
   "cell_type": "markdown",
   "id": "intelligent-expert",
   "metadata": {},
   "source": [
    "   \n",
    "   "
   ]
  },
  {
   "cell_type": "markdown",
   "id": "french-doctrine",
   "metadata": {},
   "source": [
    "   \n",
    "   "
   ]
  },
  {
   "cell_type": "markdown",
   "id": "answering-theory",
   "metadata": {},
   "source": [
    "    \n",
    "        \n",
    "        "
   ]
  },
  {
   "cell_type": "markdown",
   "id": "needed-porcelain",
   "metadata": {},
   "source": [
    "### 2.title   \n",
    "   \n"
   ]
  },
  {
   "cell_type": "markdown",
   "id": "australian-census",
   "metadata": {},
   "source": [
    "**p**"
   ]
  },
  {
   "cell_type": "code",
   "execution_count": null,
   "id": "cubic-river",
   "metadata": {
    "scrolled": true
   },
   "outputs": [],
   "source": [
    "data1 = f1.remove_empty_and_duplicate_rows(dataframe)"
   ]
  },
  {
   "cell_type": "markdown",
   "id": "arbitrary-parts",
   "metadata": {},
   "source": [
    "    \n",
    "         \n",
    "           "
   ]
  },
  {
   "cell_type": "markdown",
   "id": "official-apollo",
   "metadata": {},
   "source": [
    "**Dr.**"
   ]
  },
  {
   "cell_type": "code",
   "execution_count": null,
   "id": "boxed-broadway",
   "metadata": {},
   "outputs": [],
   "source": [
    "droppable_columns = [\n",
    "    'Investigator or Source', 'pdf', 'href formula', \n",
    "    'href','Case Number.1', 'Case Number.2', \n",
    "    'original order', 'Unnamed: 22','Unnamed: 23',\n",
    "    ]"
   ]
  },
  {
   "cell_type": "code",
   "execution_count": null,
   "id": "systematic-biotechnology",
   "metadata": {
    "scrolled": true
   },
   "outputs": [],
   "source": [
    "f1.remove_unnecessary_columns(droppable_columns,data1)\n",
    "data2 = f1.rename_columns(data1)"
   ]
  },
  {
   "cell_type": "markdown",
   "id": "governing-identity",
   "metadata": {},
   "source": [
    "      \n",
    "           \n",
    "           "
   ]
  },
  {
   "cell_type": "markdown",
   "id": "closing-humanitarian",
   "metadata": {},
   "source": [
    "**Q**"
   ]
  },
  {
   "cell_type": "code",
   "execution_count": null,
   "id": "correct-dominican",
   "metadata": {
    "scrolled": true
   },
   "outputs": [],
   "source": [
    "data2.info()"
   ]
  },
  {
   "cell_type": "markdown",
   "id": "former-poker",
   "metadata": {},
   "source": [
    "    \n",
    "        \n",
    "        "
   ]
  },
  {
   "cell_type": "markdown",
   "id": "chinese-television",
   "metadata": {},
   "source": [
    "    \n",
    "        \n",
    "        "
   ]
  },
  {
   "cell_type": "markdown",
   "id": "foster-printing",
   "metadata": {},
   "source": [
    "### 3.title\n",
    "        \n",
    "        "
   ]
  },
  {
   "cell_type": "markdown",
   "id": "painted-rogers",
   "metadata": {},
   "source": [
    "**Es:**"
   ]
  },
  {
   "cell_type": "code",
   "execution_count": null,
   "id": "amended-congress",
   "metadata": {
    "scrolled": false
   },
   "outputs": [],
   "source": [
    "df = f1.export_df_to_csv_and_check (data2)"
   ]
  },
  {
   "cell_type": "markdown",
   "id": "optical-services",
   "metadata": {},
   "source": [
    "  \n",
    "    \n",
    "      "
   ]
  },
  {
   "cell_type": "markdown",
   "id": "racial-cedar",
   "metadata": {},
   "source": [
    "  \n",
    "    \n",
    "       "
   ]
  },
  {
   "cell_type": "markdown",
   "id": "fiscal-future",
   "metadata": {},
   "source": [
    "   \n",
    "     \n",
    "       \n",
    "       "
   ]
  },
  {
   "cell_type": "markdown",
   "id": "collaborative-humanitarian",
   "metadata": {},
   "source": [
    "   \n",
    "      \n",
    "        "
   ]
  }
 ],
 "metadata": {
  "kernelspec": {
   "display_name": "Python 3",
   "language": "python",
   "name": "python3"
  },
  "language_info": {
   "codemirror_mode": {
    "name": "ipython",
    "version": 3
   },
   "file_extension": ".py",
   "mimetype": "text/x-python",
   "name": "python",
   "nbconvert_exporter": "python",
   "pygments_lexer": "ipython3",
   "version": "3.8.5"
  },
  "toc": {
   "base_numbering": "1.",
   "nav_menu": {},
   "number_sections": true,
   "sideBar": true,
   "skip_h1_title": false,
   "title_cell": "2: Data Hypothesis & Preparation",
   "title_sidebar": "Table of Content",
   "toc_cell": true,
   "toc_position": {
    "height": "calc(100% - 180px)",
    "left": "10px",
    "top": "150px",
    "width": "211.989px"
   },
   "toc_section_display": true,
   "toc_window_display": false
  },
  "varInspector": {
   "cols": {
    "lenName": 16,
    "lenType": 16,
    "lenVar": 40
   },
   "kernels_config": {
    "python": {
     "delete_cmd_postfix": "",
     "delete_cmd_prefix": "del ",
     "library": "var_list.py",
     "varRefreshCmd": "print(var_dic_list())"
    },
    "r": {
     "delete_cmd_postfix": ") ",
     "delete_cmd_prefix": "rm(",
     "library": "var_list.r",
     "varRefreshCmd": "cat(var_dic_list()) "
    }
   },
   "types_to_exclude": [
    "module",
    "function",
    "builtin_function_or_method",
    "instance",
    "_Feature"
   ],
   "window_display": false
  }
 },
 "nbformat": 4,
 "nbformat_minor": 5
}
