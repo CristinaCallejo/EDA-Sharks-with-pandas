{
 "cells": [
  {
   "cell_type": "markdown",
   "id": "becoming-monte",
   "metadata": {
    "toc": true
   },
   "source": [
    "<h1>2: Data Hypothesis &amp; Preparation<span class=\"tocSkip\"></span></h1>\n",
    "<div class=\"toc\"><ul class=\"toc-item\"><li><span><a href=\"#Imports\" data-toc-modified-id=\"Imports-1\"><span class=\"toc-item-num\">1&nbsp;&nbsp;</span>Imports</a></span></li><li><span><a href=\"#Data-Formatting\" data-toc-modified-id=\"Data-Formatting-2\"><span class=\"toc-item-num\">2&nbsp;&nbsp;</span>Data Formatting</a></span></li><li><span><a href=\"#2.title\" data-toc-modified-id=\"2.title-3\"><span class=\"toc-item-num\">3&nbsp;&nbsp;</span>2.title</a></span></li><li><span><a href=\"#3.title\" data-toc-modified-id=\"3.title-4\"><span class=\"toc-item-num\">4&nbsp;&nbsp;</span>3.title</a></span></li></ul></div>"
   ]
  },
  {
   "cell_type": "code",
   "execution_count": 1,
   "id": "broad-collect",
   "metadata": {},
   "outputs": [],
   "source": [
    "import pandas as pd\n",
    "import numpy as np\n",
    "import sys\n",
    "import src.code2_data_preparation as f2\n",
    "# pip install xlrd"
   ]
  },
  {
   "cell_type": "markdown",
   "id": "designed-asbestos",
   "metadata": {},
   "source": [
    "\n"
   ]
  },
  {
   "cell_type": "markdown",
   "id": "hawaiian-expression",
   "metadata": {},
   "source": [
    "    \n",
    "        \n",
    "        "
   ]
  },
  {
   "cell_type": "markdown",
   "id": "material-zoning",
   "metadata": {},
   "source": [
    "    \n",
    "        \n",
    "        "
   ]
  },
  {
   "cell_type": "markdown",
   "id": "missing-protocol",
   "metadata": {},
   "source": [
    "### Imports    \n",
    "   "
   ]
  },
  {
   "cell_type": "markdown",
   "id": "vanilla-moscow",
   "metadata": {},
   "source": [
    "**Import of the .csv obtained in the previous step, assigned to:**\n",
    "`dataframe`.    \n"
   ]
  },
  {
   "cell_type": "code",
   "execution_count": 2,
   "id": "compatible-pasta",
   "metadata": {},
   "outputs": [],
   "source": [
    "dataframe_GSFA = f2.import_csv(\"data-processed/attacks_updated_v1.csv\")\n",
    "dataframe_ISFA_types = f2.import_xls_to_csv(\"data-inputs/ISAF_attack_type_20192020.xls\")\n",
    "dataframe_ISFA_activity = f2.import_xls_to_csv(\"data-inputs/ISAF_victim_activity_20192020.xls\")"
   ]
  },
  {
   "cell_type": "code",
   "execution_count": 3,
   "id": "valid-validation",
   "metadata": {},
   "outputs": [],
   "source": [
    "df1 = dataframe_GSFA.copy()"
   ]
  },
  {
   "cell_type": "code",
   "execution_count": 4,
   "id": "violent-dietary",
   "metadata": {
    "scrolled": true
   },
   "outputs": [],
   "source": [
    "df2 = dataframe_ISFA_activity.copy()"
   ]
  },
  {
   "cell_type": "code",
   "execution_count": 5,
   "id": "piano-symbol",
   "metadata": {},
   "outputs": [],
   "source": [
    "df3 = dataframe_ISFA_types.copy()"
   ]
  },
  {
   "cell_type": "markdown",
   "id": "sharp-suicide",
   "metadata": {},
   "source": [
    "   \n",
    "      \n",
    "      "
   ]
  },
  {
   "cell_type": "markdown",
   "id": "lyric-cathedral",
   "metadata": {},
   "source": [
    "**t.**"
   ]
  },
  {
   "cell_type": "markdown",
   "id": "innovative-basket",
   "metadata": {},
   "source": [
    "### Data Formatting   \n",
    "   \n"
   ]
  },
  {
   "cell_type": "markdown",
   "id": "average-character",
   "metadata": {},
   "source": [
    "   \n",
    "      \n",
    "      "
   ]
  },
  {
   "cell_type": "markdown",
   "id": "polished-advantage",
   "metadata": {},
   "source": [
    "**Slicing dataframe to obtain wanted columns**"
   ]
  },
  {
   "cell_type": "code",
   "execution_count": 6,
   "id": "advised-power",
   "metadata": {},
   "outputs": [],
   "source": [
    "df1=df1.loc[df1['year']==2019]"
   ]
  },
  {
   "cell_type": "code",
   "execution_count": 7,
   "id": "becoming-algeria",
   "metadata": {},
   "outputs": [],
   "source": [
    "df2019= df1[['type','activity','fatal']].reset_index(drop=True)"
   ]
  },
  {
   "cell_type": "markdown",
   "id": "renewable-string",
   "metadata": {},
   "source": [
    "   \n",
    "      \n",
    "      "
   ]
  },
  {
   "cell_type": "code",
   "execution_count": null,
   "id": "smooth-fabric",
   "metadata": {},
   "outputs": [],
   "source": []
  },
  {
   "cell_type": "markdown",
   "id": "nonprofit-privacy",
   "metadata": {},
   "source": [
    "**Changing column names and `dtypes`**"
   ]
  },
  {
   "cell_type": "markdown",
   "id": "responsible-product",
   "metadata": {},
   "source": [
    "   \n",
    "      \n",
    "      "
   ]
  },
  {
   "cell_type": "code",
   "execution_count": 8,
   "id": "rental-wildlife",
   "metadata": {},
   "outputs": [],
   "source": [
    "df2019['fatal'] = df2019['fatal'].replace(['N','Y','UNKNOWN',' N','F','2017','y','M','Y x 2','N '],['NO','YES','UNKNOWN','NO','YES','INVALID','YES','INVALID','INVALID','NO'])\n",
    "df2 = df2.rename(columns ={'2019_percent':'perc2019', '2020_percent':'perc2020'})\n",
    "df3 = df3.rename(columns ={'2019_count':'count2019', '2020_count':'count2020'})\n",
    "df2.perc2019 = df2.perc2019*100\n",
    "df2.perc2020 = df2.perc2020*100"
   ]
  },
  {
   "cell_type": "code",
   "execution_count": 9,
   "id": "substantial-diversity",
   "metadata": {},
   "outputs": [],
   "source": [
    "df2019 = df2019.astype({'type':'category','type':'category','fatal':'category'})\n",
    "df2[['perc2019']]= df2['perc2019'].astype('int64')\n",
    "df2[['perc2020']]= df2['perc2020'].astype('int64')\n",
    "df2 = df2.astype({'victim_activity':'category'})\n",
    "df3 = df3.astype({'attack_type':'category'})"
   ]
  },
  {
   "cell_type": "code",
   "execution_count": 23,
   "id": "spread-sixth",
   "metadata": {},
   "outputs": [
    {
     "data": {
      "text/html": [
       "<div>\n",
       "<style scoped>\n",
       "    .dataframe tbody tr th:only-of-type {\n",
       "        vertical-align: middle;\n",
       "    }\n",
       "\n",
       "    .dataframe tbody tr th {\n",
       "        vertical-align: top;\n",
       "    }\n",
       "\n",
       "    .dataframe thead th {\n",
       "        text-align: right;\n",
       "    }\n",
       "</style>\n",
       "<table border=\"1\" class=\"dataframe\">\n",
       "  <thead>\n",
       "    <tr style=\"text-align: right;\">\n",
       "      <th></th>\n",
       "      <th>type</th>\n",
       "      <th>activity</th>\n",
       "      <th>fatal</th>\n",
       "    </tr>\n",
       "  </thead>\n",
       "  <tbody>\n",
       "    <tr>\n",
       "      <th>0</th>\n",
       "      <td>Unprovoked</td>\n",
       "      <td>Swimming</td>\n",
       "      <td>NO</td>\n",
       "    </tr>\n",
       "    <tr>\n",
       "      <th>1</th>\n",
       "      <td>Unprovoked</td>\n",
       "      <td>Swimming</td>\n",
       "      <td>NO</td>\n",
       "    </tr>\n",
       "    <tr>\n",
       "      <th>2</th>\n",
       "      <td>Unprovoked</td>\n",
       "      <td>Spearfishing</td>\n",
       "      <td>YES</td>\n",
       "    </tr>\n",
       "    <tr>\n",
       "      <th>3</th>\n",
       "      <td>Unprovoked</td>\n",
       "      <td>Surf skiing</td>\n",
       "      <td>NO</td>\n",
       "    </tr>\n",
       "    <tr>\n",
       "      <th>4</th>\n",
       "      <td>Unprovoked</td>\n",
       "      <td>Boogie boarding</td>\n",
       "      <td>NO</td>\n",
       "    </tr>\n",
       "    <tr>\n",
       "      <th>...</th>\n",
       "      <td>...</td>\n",
       "      <td>...</td>\n",
       "      <td>...</td>\n",
       "    </tr>\n",
       "    <tr>\n",
       "      <th>104</th>\n",
       "      <td>Unprovoked</td>\n",
       "      <td>Surfing</td>\n",
       "      <td>NO</td>\n",
       "    </tr>\n",
       "    <tr>\n",
       "      <th>106</th>\n",
       "      <td>Unprovoked</td>\n",
       "      <td>Spearfishing</td>\n",
       "      <td>NO</td>\n",
       "    </tr>\n",
       "    <tr>\n",
       "      <th>107</th>\n",
       "      <td>Unprovoked</td>\n",
       "      <td>Fishing</td>\n",
       "      <td>YES</td>\n",
       "    </tr>\n",
       "    <tr>\n",
       "      <th>109</th>\n",
       "      <td>Unprovoked</td>\n",
       "      <td>Swimming</td>\n",
       "      <td>NO</td>\n",
       "    </tr>\n",
       "    <tr>\n",
       "      <th>111</th>\n",
       "      <td>Unprovoked</td>\n",
       "      <td>Surfing</td>\n",
       "      <td>NO</td>\n",
       "    </tr>\n",
       "  </tbody>\n",
       "</table>\n",
       "<p>88 rows × 3 columns</p>\n",
       "</div>"
      ],
      "text/plain": [
       "           type         activity fatal\n",
       "0    Unprovoked         Swimming    NO\n",
       "1    Unprovoked         Swimming    NO\n",
       "2    Unprovoked     Spearfishing   YES\n",
       "3    Unprovoked     Surf skiing     NO\n",
       "4    Unprovoked  Boogie boarding    NO\n",
       "..          ...              ...   ...\n",
       "104  Unprovoked          Surfing    NO\n",
       "106  Unprovoked     Spearfishing    NO\n",
       "107  Unprovoked          Fishing   YES\n",
       "109  Unprovoked         Swimming    NO\n",
       "111  Unprovoked          Surfing    NO\n",
       "\n",
       "[88 rows x 3 columns]"
      ]
     },
     "execution_count": 23,
     "metadata": {},
     "output_type": "execute_result"
    }
   ],
   "source": [
    "testing_unprov = df2019[df2019['type']=='Unprovoked']\n",
    "testing_unprov"
   ]
  },
  {
   "cell_type": "code",
   "execution_count": 30,
   "id": "understood-enzyme",
   "metadata": {},
   "outputs": [],
   "source": [
    "testing_fatal = df2019[df2019['fatal']=='NO']"
   ]
  },
  {
   "cell_type": "code",
   "execution_count": 31,
   "id": "incoming-wireless",
   "metadata": {},
   "outputs": [
    {
     "data": {
      "text/html": [
       "<div>\n",
       "<style scoped>\n",
       "    .dataframe tbody tr th:only-of-type {\n",
       "        vertical-align: middle;\n",
       "    }\n",
       "\n",
       "    .dataframe tbody tr th {\n",
       "        vertical-align: top;\n",
       "    }\n",
       "\n",
       "    .dataframe thead th {\n",
       "        text-align: right;\n",
       "    }\n",
       "</style>\n",
       "<table border=\"1\" class=\"dataframe\">\n",
       "  <thead>\n",
       "    <tr style=\"text-align: right;\">\n",
       "      <th></th>\n",
       "      <th>type</th>\n",
       "      <th>activity</th>\n",
       "      <th>fatal</th>\n",
       "    </tr>\n",
       "  </thead>\n",
       "  <tbody>\n",
       "    <tr>\n",
       "      <th>0</th>\n",
       "      <td>Unprovoked</td>\n",
       "      <td>Swimming</td>\n",
       "      <td>NO</td>\n",
       "    </tr>\n",
       "    <tr>\n",
       "      <th>1</th>\n",
       "      <td>Unprovoked</td>\n",
       "      <td>Swimming</td>\n",
       "      <td>NO</td>\n",
       "    </tr>\n",
       "    <tr>\n",
       "      <th>3</th>\n",
       "      <td>Unprovoked</td>\n",
       "      <td>Surf skiing</td>\n",
       "      <td>NO</td>\n",
       "    </tr>\n",
       "    <tr>\n",
       "      <th>4</th>\n",
       "      <td>Unprovoked</td>\n",
       "      <td>Boogie boarding</td>\n",
       "      <td>NO</td>\n",
       "    </tr>\n",
       "    <tr>\n",
       "      <th>5</th>\n",
       "      <td>Unprovoked</td>\n",
       "      <td>Surfing</td>\n",
       "      <td>NO</td>\n",
       "    </tr>\n",
       "    <tr>\n",
       "      <th>...</th>\n",
       "      <td>...</td>\n",
       "      <td>...</td>\n",
       "      <td>...</td>\n",
       "    </tr>\n",
       "    <tr>\n",
       "      <th>106</th>\n",
       "      <td>Unprovoked</td>\n",
       "      <td>Spearfishing</td>\n",
       "      <td>NO</td>\n",
       "    </tr>\n",
       "    <tr>\n",
       "      <th>108</th>\n",
       "      <td>Invalid</td>\n",
       "      <td>Boogie boarding</td>\n",
       "      <td>NO</td>\n",
       "    </tr>\n",
       "    <tr>\n",
       "      <th>109</th>\n",
       "      <td>Unprovoked</td>\n",
       "      <td>Swimming</td>\n",
       "      <td>NO</td>\n",
       "    </tr>\n",
       "    <tr>\n",
       "      <th>110</th>\n",
       "      <td>Invalid</td>\n",
       "      <td>Wading</td>\n",
       "      <td>NO</td>\n",
       "    </tr>\n",
       "    <tr>\n",
       "      <th>111</th>\n",
       "      <td>Unprovoked</td>\n",
       "      <td>Surfing</td>\n",
       "      <td>NO</td>\n",
       "    </tr>\n",
       "  </tbody>\n",
       "</table>\n",
       "<p>98 rows × 3 columns</p>\n",
       "</div>"
      ],
      "text/plain": [
       "           type         activity fatal\n",
       "0    Unprovoked         Swimming    NO\n",
       "1    Unprovoked         Swimming    NO\n",
       "3    Unprovoked     Surf skiing     NO\n",
       "4    Unprovoked  Boogie boarding    NO\n",
       "5    Unprovoked          Surfing    NO\n",
       "..          ...              ...   ...\n",
       "106  Unprovoked     Spearfishing    NO\n",
       "108     Invalid  Boogie boarding    NO\n",
       "109  Unprovoked         Swimming    NO\n",
       "110     Invalid           Wading    NO\n",
       "111  Unprovoked          Surfing    NO\n",
       "\n",
       "[98 rows x 3 columns]"
      ]
     },
     "execution_count": 31,
     "metadata": {},
     "output_type": "execute_result"
    }
   ],
   "source": [
    "testing_fatal"
   ]
  },
  {
   "cell_type": "code",
   "execution_count": null,
   "id": "chubby-peeing",
   "metadata": {},
   "outputs": [],
   "source": []
  },
  {
   "cell_type": "code",
   "execution_count": 11,
   "id": "binary-fifty",
   "metadata": {},
   "outputs": [
    {
     "data": {
      "text/html": [
       "<div>\n",
       "<style scoped>\n",
       "    .dataframe tbody tr th:only-of-type {\n",
       "        vertical-align: middle;\n",
       "    }\n",
       "\n",
       "    .dataframe tbody tr th {\n",
       "        vertical-align: top;\n",
       "    }\n",
       "\n",
       "    .dataframe thead th {\n",
       "        text-align: right;\n",
       "    }\n",
       "</style>\n",
       "<table border=\"1\" class=\"dataframe\">\n",
       "  <thead>\n",
       "    <tr style=\"text-align: right;\">\n",
       "      <th></th>\n",
       "      <th>victim_activity</th>\n",
       "      <th>perc2019</th>\n",
       "      <th>perc2020</th>\n",
       "    </tr>\n",
       "  </thead>\n",
       "  <tbody>\n",
       "    <tr>\n",
       "      <th>0</th>\n",
       "      <td>Surfing/board sports</td>\n",
       "      <td>53</td>\n",
       "      <td>61</td>\n",
       "    </tr>\n",
       "    <tr>\n",
       "      <th>1</th>\n",
       "      <td>Swimming/wading</td>\n",
       "      <td>25</td>\n",
       "      <td>26</td>\n",
       "    </tr>\n",
       "    <tr>\n",
       "      <th>2</th>\n",
       "      <td>Snorkeling/free-diving</td>\n",
       "      <td>11</td>\n",
       "      <td>3</td>\n",
       "    </tr>\n",
       "    <tr>\n",
       "      <th>3</th>\n",
       "      <td>Body surfing/horseplay</td>\n",
       "      <td>8</td>\n",
       "      <td>5</td>\n",
       "    </tr>\n",
       "    <tr>\n",
       "      <th>4</th>\n",
       "      <td>Scuba</td>\n",
       "      <td>3</td>\n",
       "      <td>3</td>\n",
       "    </tr>\n",
       "  </tbody>\n",
       "</table>\n",
       "</div>"
      ],
      "text/plain": [
       "          victim_activity  perc2019  perc2020\n",
       "0    Surfing/board sports        53        61\n",
       "1         Swimming/wading        25        26\n",
       "2  Snorkeling/free-diving        11         3\n",
       "3  Body surfing/horseplay         8         5\n",
       "4                   Scuba         3         3"
      ]
     },
     "execution_count": 11,
     "metadata": {},
     "output_type": "execute_result"
    }
   ],
   "source": [
    "df2"
   ]
  },
  {
   "cell_type": "code",
   "execution_count": 12,
   "id": "norwegian-pollution",
   "metadata": {
    "scrolled": true
   },
   "outputs": [
    {
     "data": {
      "text/html": [
       "<div>\n",
       "<style scoped>\n",
       "    .dataframe tbody tr th:only-of-type {\n",
       "        vertical-align: middle;\n",
       "    }\n",
       "\n",
       "    .dataframe tbody tr th {\n",
       "        vertical-align: top;\n",
       "    }\n",
       "\n",
       "    .dataframe thead th {\n",
       "        text-align: right;\n",
       "    }\n",
       "</style>\n",
       "<table border=\"1\" class=\"dataframe\">\n",
       "  <thead>\n",
       "    <tr style=\"text-align: right;\">\n",
       "      <th></th>\n",
       "      <th>attack_type</th>\n",
       "      <th>count2019</th>\n",
       "      <th>count2020</th>\n",
       "    </tr>\n",
       "  </thead>\n",
       "  <tbody>\n",
       "    <tr>\n",
       "      <th>0</th>\n",
       "      <td>Unprovoked attacks</td>\n",
       "      <td>64</td>\n",
       "      <td>57</td>\n",
       "    </tr>\n",
       "    <tr>\n",
       "      <th>1</th>\n",
       "      <td>Provoked attacks</td>\n",
       "      <td>41</td>\n",
       "      <td>39</td>\n",
       "    </tr>\n",
       "    <tr>\n",
       "      <th>2</th>\n",
       "      <td>Boat attacks</td>\n",
       "      <td>12</td>\n",
       "      <td>6</td>\n",
       "    </tr>\n",
       "    <tr>\n",
       "      <th>3</th>\n",
       "      <td>Scavenge</td>\n",
       "      <td>1</td>\n",
       "      <td>1</td>\n",
       "    </tr>\n",
       "    <tr>\n",
       "      <th>4</th>\n",
       "      <td>Public aquaria</td>\n",
       "      <td>1</td>\n",
       "      <td>1</td>\n",
       "    </tr>\n",
       "    <tr>\n",
       "      <th>5</th>\n",
       "      <td>Doubtful</td>\n",
       "      <td>3</td>\n",
       "      <td>3</td>\n",
       "    </tr>\n",
       "    <tr>\n",
       "      <th>6</th>\n",
       "      <td>NaN</td>\n",
       "      <td>9</td>\n",
       "      <td>6</td>\n",
       "    </tr>\n",
       "    <tr>\n",
       "      <th>7</th>\n",
       "      <td>Not confirmed</td>\n",
       "      <td>9</td>\n",
       "      <td>16</td>\n",
       "    </tr>\n",
       "    <tr>\n",
       "      <th>8</th>\n",
       "      <td>Unprovoked fatal cases</td>\n",
       "      <td>2</td>\n",
       "      <td>10</td>\n",
       "    </tr>\n",
       "    <tr>\n",
       "      <th>9</th>\n",
       "      <td>Total cases</td>\n",
       "      <td>140</td>\n",
       "      <td>129</td>\n",
       "    </tr>\n",
       "  </tbody>\n",
       "</table>\n",
       "</div>"
      ],
      "text/plain": [
       "              attack_type  count2019  count2020\n",
       "0      Unprovoked attacks         64         57\n",
       "1        Provoked attacks         41         39\n",
       "2            Boat attacks         12          6\n",
       "3                Scavenge          1          1\n",
       "4          Public aquaria          1          1\n",
       "5                Doubtful          3          3\n",
       "6                     NaN          9          6\n",
       "7           Not confirmed          9         16\n",
       "8  Unprovoked fatal cases          2         10\n",
       "9             Total cases        140        129"
      ]
     },
     "execution_count": 12,
     "metadata": {},
     "output_type": "execute_result"
    }
   ],
   "source": [
    "df3"
   ]
  },
  {
   "cell_type": "code",
   "execution_count": null,
   "id": "cognitive-disposal",
   "metadata": {
    "scrolled": true
   },
   "outputs": [],
   "source": []
  },
  {
   "cell_type": "code",
   "execution_count": null,
   "id": "hollow-header",
   "metadata": {},
   "outputs": [],
   "source": []
  },
  {
   "cell_type": "markdown",
   "id": "opposite-opinion",
   "metadata": {},
   "source": [
    "     \n",
    "          \n",
    "           "
   ]
  },
  {
   "cell_type": "markdown",
   "id": "charming-sleep",
   "metadata": {},
   "source": [
    "**R**"
   ]
  },
  {
   "cell_type": "code",
   "execution_count": null,
   "id": "developing-fruit",
   "metadata": {},
   "outputs": [],
   "source": [
    "datafr"
   ]
  },
  {
   "cell_type": "markdown",
   "id": "intelligent-expert",
   "metadata": {},
   "source": [
    "   \n",
    "   "
   ]
  },
  {
   "cell_type": "markdown",
   "id": "french-doctrine",
   "metadata": {},
   "source": [
    "   \n",
    "   "
   ]
  },
  {
   "cell_type": "markdown",
   "id": "answering-theory",
   "metadata": {},
   "source": [
    "    \n",
    "        \n",
    "        "
   ]
  },
  {
   "cell_type": "markdown",
   "id": "needed-porcelain",
   "metadata": {},
   "source": [
    "### 2.title   \n",
    "   \n"
   ]
  },
  {
   "cell_type": "markdown",
   "id": "australian-census",
   "metadata": {},
   "source": [
    "**p**"
   ]
  },
  {
   "cell_type": "code",
   "execution_count": null,
   "id": "cubic-river",
   "metadata": {
    "scrolled": true
   },
   "outputs": [],
   "source": [
    "dat"
   ]
  },
  {
   "cell_type": "markdown",
   "id": "arbitrary-parts",
   "metadata": {},
   "source": [
    "    \n",
    "         \n",
    "           "
   ]
  },
  {
   "cell_type": "markdown",
   "id": "official-apollo",
   "metadata": {},
   "source": [
    "**Dr.**"
   ]
  },
  {
   "cell_type": "code",
   "execution_count": null,
   "id": "boxed-broadway",
   "metadata": {},
   "outputs": [],
   "source": [
    "dr"
   ]
  },
  {
   "cell_type": "code",
   "execution_count": null,
   "id": "systematic-biotechnology",
   "metadata": {
    "scrolled": true
   },
   "outputs": [],
   "source": [
    "f"
   ]
  },
  {
   "cell_type": "markdown",
   "id": "governing-identity",
   "metadata": {},
   "source": [
    "      \n",
    "           \n",
    "           "
   ]
  },
  {
   "cell_type": "markdown",
   "id": "closing-humanitarian",
   "metadata": {},
   "source": [
    "**Q**"
   ]
  },
  {
   "cell_type": "code",
   "execution_count": null,
   "id": "correct-dominican",
   "metadata": {
    "scrolled": true
   },
   "outputs": [],
   "source": [
    "da"
   ]
  },
  {
   "cell_type": "markdown",
   "id": "former-poker",
   "metadata": {},
   "source": [
    "    \n",
    "        \n",
    "        "
   ]
  },
  {
   "cell_type": "markdown",
   "id": "chinese-television",
   "metadata": {},
   "source": [
    "    \n",
    "        \n",
    "        "
   ]
  },
  {
   "cell_type": "markdown",
   "id": "foster-printing",
   "metadata": {},
   "source": [
    "### 3.title\n",
    "        \n",
    "        "
   ]
  },
  {
   "cell_type": "markdown",
   "id": "painted-rogers",
   "metadata": {},
   "source": [
    "**Es:**"
   ]
  },
  {
   "cell_type": "code",
   "execution_count": null,
   "id": "amended-congress",
   "metadata": {
    "scrolled": false
   },
   "outputs": [],
   "source": [
    "df = f1.export_df_to_csv_and_check (data2)"
   ]
  },
  {
   "cell_type": "markdown",
   "id": "optical-services",
   "metadata": {},
   "source": [
    "  \n",
    "    \n",
    "      "
   ]
  },
  {
   "cell_type": "markdown",
   "id": "racial-cedar",
   "metadata": {},
   "source": [
    "  \n",
    "    \n",
    "       "
   ]
  },
  {
   "cell_type": "markdown",
   "id": "fiscal-future",
   "metadata": {},
   "source": [
    "   \n",
    "     \n",
    "       \n",
    "       "
   ]
  },
  {
   "cell_type": "markdown",
   "id": "collaborative-humanitarian",
   "metadata": {},
   "source": [
    "   \n",
    "      \n",
    "        "
   ]
  }
 ],
 "metadata": {
  "kernelspec": {
   "display_name": "Python 3",
   "language": "python",
   "name": "python3"
  },
  "language_info": {
   "codemirror_mode": {
    "name": "ipython",
    "version": 3
   },
   "file_extension": ".py",
   "mimetype": "text/x-python",
   "name": "python",
   "nbconvert_exporter": "python",
   "pygments_lexer": "ipython3",
   "version": "3.8.5"
  },
  "toc": {
   "base_numbering": "1.",
   "nav_menu": {},
   "number_sections": true,
   "sideBar": true,
   "skip_h1_title": false,
   "title_cell": "2: Data Hypothesis & Preparation",
   "title_sidebar": "Table of Content",
   "toc_cell": true,
   "toc_position": {
    "height": "calc(100% - 180px)",
    "left": "10px",
    "top": "150px",
    "width": "211.989px"
   },
   "toc_section_display": true,
   "toc_window_display": false
  },
  "varInspector": {
   "cols": {
    "lenName": 16,
    "lenType": 16,
    "lenVar": 40
   },
   "kernels_config": {
    "python": {
     "delete_cmd_postfix": "",
     "delete_cmd_prefix": "del ",
     "library": "var_list.py",
     "varRefreshCmd": "print(var_dic_list())"
    },
    "r": {
     "delete_cmd_postfix": ") ",
     "delete_cmd_prefix": "rm(",
     "library": "var_list.r",
     "varRefreshCmd": "cat(var_dic_list()) "
    }
   },
   "types_to_exclude": [
    "module",
    "function",
    "builtin_function_or_method",
    "instance",
    "_Feature"
   ],
   "window_display": false
  }
 },
 "nbformat": 4,
 "nbformat_minor": 5
}
