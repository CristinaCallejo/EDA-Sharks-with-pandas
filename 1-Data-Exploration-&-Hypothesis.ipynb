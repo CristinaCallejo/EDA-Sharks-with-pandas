{
 "cells": [
  {
   "cell_type": "markdown",
   "id": "designed-asbestos",
   "metadata": {},
   "source": [
    "\n"
   ]
  },
  {
   "cell_type": "code",
   "execution_count": 1,
   "id": "broad-collect",
   "metadata": {},
   "outputs": [],
   "source": [
    "import pandas as pd\n",
    "import sys\n",
    "# pip install xlrd\n"
   ]
  },
  {
   "cell_type": "code",
   "execution_count": 2,
   "id": "registered-ordering",
   "metadata": {},
   "outputs": [],
   "source": [
    "import src.code1_data_exploration_and_hypothesis as pw1"
   ]
  },
  {
   "cell_type": "code",
   "execution_count": null,
   "id": "vertical-adoption",
   "metadata": {},
   "outputs": [],
   "source": []
  },
  {
   "cell_type": "markdown",
   "id": "actual-springfield",
   "metadata": {},
   "source": [
    "*"
   ]
  },
  {
   "cell_type": "markdown",
   "id": "dried-florence",
   "metadata": {},
   "source": [
    "*"
   ]
  },
  {
   "cell_type": "markdown",
   "id": "vanilla-moscow",
   "metadata": {},
   "source": [
    "Import of the well known shark attack dataset from Kaggle by assigning it to the variable 'data'."
   ]
  },
  {
   "cell_type": "code",
   "execution_count": 3,
   "id": "abstract-genetics",
   "metadata": {},
   "outputs": [],
   "source": [
    "dataset = pd.read_csv(\"data-inputs/attacks.csv\",encoding = \"ISO-8859-1\")"
   ]
  },
  {
   "cell_type": "markdown",
   "id": "secure-klein",
   "metadata": {},
   "source": [
    "*"
   ]
  },
  {
   "cell_type": "markdown",
   "id": "detected-audit",
   "metadata": {},
   "source": [
    "*"
   ]
  },
  {
   "cell_type": "markdown",
   "id": "pediatric-outdoors",
   "metadata": {},
   "source": [
    "Import of updated dataset, downloaded straight from the source: [Shark Research Institute](http://www.sharkattackfile.net/incidentlog.htm)"
   ]
  },
  {
   "cell_type": "code",
   "execution_count": 4,
   "id": "polish-meaning",
   "metadata": {},
   "outputs": [],
   "source": [
    "read_file = pd.read_excel (\"data-inputs/attacks_updated_03042021.xls\")"
   ]
  },
  {
   "cell_type": "code",
   "execution_count": 5,
   "id": "neural-wayne",
   "metadata": {},
   "outputs": [],
   "source": [
    "read_file.to_csv (\"data-inputs/attacks_updated_03042021.csv\", \n",
    "                  index = None,\n",
    "                  header=True)"
   ]
  },
  {
   "cell_type": "code",
   "execution_count": 6,
   "id": "gothic-career",
   "metadata": {},
   "outputs": [],
   "source": [
    "dataset_updated = pd.DataFrame(pd.read_csv(\"data-inputs/attacks_updated_03042021.csv\"))"
   ]
  },
  {
   "cell_type": "markdown",
   "id": "empirical-hearts",
   "metadata": {},
   "source": [
    "*"
   ]
  },
  {
   "cell_type": "markdown",
   "id": "humanitarian-blair",
   "metadata": {},
   "source": [
    "*"
   ]
  },
  {
   "cell_type": "markdown",
   "id": "lyric-cathedral",
   "metadata": {},
   "source": [
    "Comparison to decide which dataset to work with for the project."
   ]
  },
  {
   "cell_type": "code",
   "execution_count": 7,
   "id": "violent-perception",
   "metadata": {},
   "outputs": [
    {
     "data": {
      "text/plain": [
       "(25723, 24)"
      ]
     },
     "execution_count": 7,
     "metadata": {},
     "output_type": "execute_result"
    }
   ],
   "source": [
    "dataset.shape"
   ]
  },
  {
   "cell_type": "code",
   "execution_count": 8,
   "id": "spread-sample",
   "metadata": {},
   "outputs": [
    {
     "data": {
      "text/plain": [
       "(25806, 24)"
      ]
     },
     "execution_count": 8,
     "metadata": {},
     "output_type": "execute_result"
    }
   ],
   "source": [
    "dataset_updated.shape"
   ]
  },
  {
   "cell_type": "code",
   "execution_count": 9,
   "id": "impressed-samoa",
   "metadata": {
    "scrolled": true
   },
   "outputs": [
    {
     "data": {
      "text/html": [
       "<div>\n",
       "<style scoped>\n",
       "    .dataframe tbody tr th:only-of-type {\n",
       "        vertical-align: middle;\n",
       "    }\n",
       "\n",
       "    .dataframe tbody tr th {\n",
       "        vertical-align: top;\n",
       "    }\n",
       "\n",
       "    .dataframe thead th {\n",
       "        text-align: right;\n",
       "    }\n",
       "</style>\n",
       "<table border=\"1\" class=\"dataframe\">\n",
       "  <thead>\n",
       "    <tr style=\"text-align: right;\">\n",
       "      <th></th>\n",
       "      <th>Case Number</th>\n",
       "      <th>Date</th>\n",
       "      <th>Year</th>\n",
       "      <th>Type</th>\n",
       "      <th>Country</th>\n",
       "      <th>Area</th>\n",
       "      <th>Location</th>\n",
       "      <th>Activity</th>\n",
       "      <th>Name</th>\n",
       "      <th>Sex</th>\n",
       "      <th>...</th>\n",
       "      <th>Species</th>\n",
       "      <th>Investigator or Source</th>\n",
       "      <th>pdf</th>\n",
       "      <th>href formula</th>\n",
       "      <th>href</th>\n",
       "      <th>Case Number.1</th>\n",
       "      <th>Case Number.2</th>\n",
       "      <th>original order</th>\n",
       "      <th>Unnamed: 22</th>\n",
       "      <th>Unnamed: 23</th>\n",
       "    </tr>\n",
       "  </thead>\n",
       "  <tbody>\n",
       "    <tr>\n",
       "      <th>0</th>\n",
       "      <td>2021.03.02</td>\n",
       "      <td>02-Mar-2021</td>\n",
       "      <td>2021.0</td>\n",
       "      <td>Unprovoked</td>\n",
       "      <td>NEW CALEDONIA</td>\n",
       "      <td>Loyalty Islands</td>\n",
       "      <td>Ouvéa</td>\n",
       "      <td>Spearfishing</td>\n",
       "      <td>male</td>\n",
       "      <td>M</td>\n",
       "      <td>...</td>\n",
       "      <td>NaN</td>\n",
       "      <td>Franceinfo, 3/2/2021</td>\n",
       "      <td>2021.03.02-NewCaledonia.pdf</td>\n",
       "      <td>http://sharkattackfile.net/spreadsheets/pdf_di...</td>\n",
       "      <td>http://sharkattackfile.net/spreadsheets/pdf_di...</td>\n",
       "      <td>2021.03.02</td>\n",
       "      <td>2021.03.02</td>\n",
       "      <td>6622.0</td>\n",
       "      <td>NaN</td>\n",
       "      <td>NaN</td>\n",
       "    </tr>\n",
       "  </tbody>\n",
       "</table>\n",
       "<p>1 rows × 24 columns</p>\n",
       "</div>"
      ],
      "text/plain": [
       "  Case Number         Date    Year        Type        Country  \\\n",
       "0  2021.03.02  02-Mar-2021  2021.0  Unprovoked  NEW CALEDONIA   \n",
       "\n",
       "              Area Location      Activity  Name Sex   ... Species   \\\n",
       "0  Loyalty Islands    Ouvéa  Spearfishing  male    M  ...      NaN   \n",
       "\n",
       "  Investigator or Source                          pdf  \\\n",
       "0   Franceinfo, 3/2/2021  2021.03.02-NewCaledonia.pdf   \n",
       "\n",
       "                                        href formula  \\\n",
       "0  http://sharkattackfile.net/spreadsheets/pdf_di...   \n",
       "\n",
       "                                                href Case Number.1  \\\n",
       "0  http://sharkattackfile.net/spreadsheets/pdf_di...    2021.03.02   \n",
       "\n",
       "  Case Number.2 original order Unnamed: 22 Unnamed: 23  \n",
       "0    2021.03.02         6622.0         NaN         NaN  \n",
       "\n",
       "[1 rows x 24 columns]"
      ]
     },
     "execution_count": 9,
     "metadata": {},
     "output_type": "execute_result"
    }
   ],
   "source": [
    "dataset_updated.head(1)"
   ]
  },
  {
   "cell_type": "code",
   "execution_count": 10,
   "id": "crude-addiction",
   "metadata": {},
   "outputs": [
    {
     "data": {
      "text/html": [
       "<div>\n",
       "<style scoped>\n",
       "    .dataframe tbody tr th:only-of-type {\n",
       "        vertical-align: middle;\n",
       "    }\n",
       "\n",
       "    .dataframe tbody tr th {\n",
       "        vertical-align: top;\n",
       "    }\n",
       "\n",
       "    .dataframe thead th {\n",
       "        text-align: right;\n",
       "    }\n",
       "</style>\n",
       "<table border=\"1\" class=\"dataframe\">\n",
       "  <thead>\n",
       "    <tr style=\"text-align: right;\">\n",
       "      <th></th>\n",
       "      <th>Case Number</th>\n",
       "      <th>Date</th>\n",
       "      <th>Year</th>\n",
       "      <th>Type</th>\n",
       "      <th>Country</th>\n",
       "      <th>Area</th>\n",
       "      <th>Location</th>\n",
       "      <th>Activity</th>\n",
       "      <th>Name</th>\n",
       "      <th>Sex</th>\n",
       "      <th>...</th>\n",
       "      <th>Species</th>\n",
       "      <th>Investigator or Source</th>\n",
       "      <th>pdf</th>\n",
       "      <th>href formula</th>\n",
       "      <th>href</th>\n",
       "      <th>Case Number.1</th>\n",
       "      <th>Case Number.2</th>\n",
       "      <th>original order</th>\n",
       "      <th>Unnamed: 22</th>\n",
       "      <th>Unnamed: 23</th>\n",
       "    </tr>\n",
       "  </thead>\n",
       "  <tbody>\n",
       "    <tr>\n",
       "      <th>0</th>\n",
       "      <td>2018.06.25</td>\n",
       "      <td>25-Jun-2018</td>\n",
       "      <td>2018.0</td>\n",
       "      <td>Boating</td>\n",
       "      <td>USA</td>\n",
       "      <td>California</td>\n",
       "      <td>Oceanside, San Diego County</td>\n",
       "      <td>Paddling</td>\n",
       "      <td>Julie Wolfe</td>\n",
       "      <td>F</td>\n",
       "      <td>...</td>\n",
       "      <td>White shark</td>\n",
       "      <td>R. Collier, GSAF</td>\n",
       "      <td>2018.06.25-Wolfe.pdf</td>\n",
       "      <td>http://sharkattackfile.net/spreadsheets/pdf_di...</td>\n",
       "      <td>http://sharkattackfile.net/spreadsheets/pdf_di...</td>\n",
       "      <td>2018.06.25</td>\n",
       "      <td>2018.06.25</td>\n",
       "      <td>6303.0</td>\n",
       "      <td>NaN</td>\n",
       "      <td>NaN</td>\n",
       "    </tr>\n",
       "  </tbody>\n",
       "</table>\n",
       "<p>1 rows × 24 columns</p>\n",
       "</div>"
      ],
      "text/plain": [
       "  Case Number         Date    Year     Type Country        Area  \\\n",
       "0  2018.06.25  25-Jun-2018  2018.0  Boating     USA  California   \n",
       "\n",
       "                      Location  Activity         Name Sex   ...     Species   \\\n",
       "0  Oceanside, San Diego County  Paddling  Julie Wolfe    F  ...  White shark   \n",
       "\n",
       "  Investigator or Source                   pdf  \\\n",
       "0       R. Collier, GSAF  2018.06.25-Wolfe.pdf   \n",
       "\n",
       "                                        href formula  \\\n",
       "0  http://sharkattackfile.net/spreadsheets/pdf_di...   \n",
       "\n",
       "                                                href Case Number.1  \\\n",
       "0  http://sharkattackfile.net/spreadsheets/pdf_di...    2018.06.25   \n",
       "\n",
       "  Case Number.2 original order Unnamed: 22 Unnamed: 23  \n",
       "0    2018.06.25         6303.0         NaN         NaN  \n",
       "\n",
       "[1 rows x 24 columns]"
      ]
     },
     "execution_count": 10,
     "metadata": {},
     "output_type": "execute_result"
    }
   ],
   "source": [
    "dataset.head(1)"
   ]
  },
  {
   "cell_type": "markdown",
   "id": "fancy-generic",
   "metadata": {},
   "source": [
    "*"
   ]
  },
  {
   "cell_type": "markdown",
   "id": "mighty-paintball",
   "metadata": {},
   "source": [
    "*"
   ]
  },
  {
   "cell_type": "markdown",
   "id": "charming-sleep",
   "metadata": {},
   "source": [
    "Replication of the chosen dataset to maintain original one intact"
   ]
  },
  {
   "cell_type": "code",
   "execution_count": 11,
   "id": "disabled-grass",
   "metadata": {},
   "outputs": [],
   "source": [
    "data1 = dataset_updated.copy()"
   ]
  },
  {
   "cell_type": "code",
   "execution_count": 12,
   "id": "satellite-omaha",
   "metadata": {
    "scrolled": true
   },
   "outputs": [
    {
     "data": {
      "text/plain": [
       "(25806, 24)"
      ]
     },
     "execution_count": 12,
     "metadata": {},
     "output_type": "execute_result"
    }
   ],
   "source": [
    "data1.shape"
   ]
  },
  {
   "cell_type": "markdown",
   "id": "touched-possession",
   "metadata": {},
   "source": [
    "*"
   ]
  },
  {
   "cell_type": "markdown",
   "id": "intelligent-expert",
   "metadata": {},
   "source": [
    "*"
   ]
  },
  {
   "cell_type": "markdown",
   "id": "needed-porcelain",
   "metadata": {},
   "source": [
    "### Initial inspection of data: reshaping imported data for exploration"
   ]
  },
  {
   "cell_type": "markdown",
   "id": "australian-census",
   "metadata": {},
   "source": [
    "Drop empty rows"
   ]
  },
  {
   "cell_type": "code",
   "execution_count": 13,
   "id": "precious-school",
   "metadata": {},
   "outputs": [
    {
     "data": {
      "text/plain": [
       "Case Number               17022\n",
       "Date                      19186\n",
       "Year                      19187\n",
       "Type                      19196\n",
       "Country                   19235\n",
       "Area                      19656\n",
       "Location                  19734\n",
       "Activity                  19744\n",
       "Name                      19399\n",
       "Sex                       19758\n",
       "Age                       22101\n",
       "Injury                    19216\n",
       "Fatal (Y/N)               19737\n",
       "Time                      22613\n",
       "Species                   22158\n",
       "Investigator or Source    19203\n",
       "pdf                       19186\n",
       "href formula              19189\n",
       "href                      19187\n",
       "Case Number.1             19186\n",
       "Case Number.2             19186\n",
       "original order            19185\n",
       "Unnamed: 22               25805\n",
       "Unnamed: 23               25804\n",
       "dtype: int64"
      ]
     },
     "execution_count": 13,
     "metadata": {},
     "output_type": "execute_result"
    }
   ],
   "source": [
    "data1.isnull().sum()"
   ]
  },
  {
   "cell_type": "code",
   "execution_count": 14,
   "id": "insured-coalition",
   "metadata": {},
   "outputs": [],
   "source": [
    "data1 = data1.dropna(how='all')"
   ]
  },
  {
   "cell_type": "code",
   "execution_count": 15,
   "id": "framed-privilege",
   "metadata": {},
   "outputs": [
    {
     "data": {
      "text/plain": [
       "Case Number                  2\n",
       "Date                      2166\n",
       "Year                      2167\n",
       "Type                      2176\n",
       "Country                   2215\n",
       "Area                      2636\n",
       "Location                  2714\n",
       "Activity                  2724\n",
       "Name                      2379\n",
       "Sex                       2738\n",
       "Age                       5081\n",
       "Injury                    2196\n",
       "Fatal (Y/N)               2717\n",
       "Time                      5593\n",
       "Species                   5138\n",
       "Investigator or Source    2183\n",
       "pdf                       2166\n",
       "href formula              2169\n",
       "href                      2167\n",
       "Case Number.1             2166\n",
       "Case Number.2             2166\n",
       "original order            2165\n",
       "Unnamed: 22               8785\n",
       "Unnamed: 23               8784\n",
       "dtype: int64"
      ]
     },
     "execution_count": 15,
     "metadata": {},
     "output_type": "execute_result"
    }
   ],
   "source": [
    "data1.isnull().sum()"
   ]
  },
  {
   "cell_type": "markdown",
   "id": "composite-benjamin",
   "metadata": {},
   "source": [
    "*"
   ]
  },
  {
   "cell_type": "markdown",
   "id": "ruled-boating",
   "metadata": {},
   "source": [
    "*"
   ]
  },
  {
   "cell_type": "markdown",
   "id": "green-naples",
   "metadata": {},
   "source": [
    "Removing duplicate rows"
   ]
  },
  {
   "cell_type": "code",
   "execution_count": 16,
   "id": "offshore-reset",
   "metadata": {
    "scrolled": true
   },
   "outputs": [
    {
     "data": {
      "text/plain": [
       "(6621, 24)"
      ]
     },
     "execution_count": 16,
     "metadata": {},
     "output_type": "execute_result"
    }
   ],
   "source": [
    "d1 = data1[data1.duplicated(keep=False)]\n",
    "data = data1[:6621]\n",
    "data.shape"
   ]
  },
  {
   "cell_type": "markdown",
   "id": "professional-hacker",
   "metadata": {},
   "source": [
    "*"
   ]
  },
  {
   "cell_type": "markdown",
   "id": "powered-jaguar",
   "metadata": {},
   "source": [
    "*"
   ]
  },
  {
   "cell_type": "markdown",
   "id": "official-apollo",
   "metadata": {},
   "source": [
    "Removing columns with irrelevant data to this exploration (as they relate to internal database management file system) and renaming the remaining columns to facilitate further operations"
   ]
  },
  {
   "cell_type": "code",
   "execution_count": 17,
   "id": "internal-webster",
   "metadata": {
    "scrolled": false
   },
   "outputs": [
    {
     "name": "stdout",
     "output_type": "stream",
     "text": [
      "<class 'pandas.core.frame.DataFrame'>\n",
      "Int64Index: 6621 entries, 0 to 6620\n",
      "Data columns (total 15 columns):\n",
      " #   Column       Non-Null Count  Dtype  \n",
      "---  ------       --------------  -----  \n",
      " 0   case_number  6619 non-null   object \n",
      " 1   date         6620 non-null   object \n",
      " 2   year         6619 non-null   float64\n",
      " 3   type         6610 non-null   object \n",
      " 4   country      6571 non-null   object \n",
      " 5   area         6150 non-null   object \n",
      " 6   location     6072 non-null   object \n",
      " 7   activity     6062 non-null   object \n",
      " 8   name         6406 non-null   object \n",
      " 9   sex          6048 non-null   object \n",
      " 10  age          3705 non-null   object \n",
      " 11  injury       6590 non-null   object \n",
      " 12  fatal        6069 non-null   object \n",
      " 13  time         3193 non-null   object \n",
      " 14  species      3648 non-null   object \n",
      "dtypes: float64(1), object(14)\n",
      "memory usage: 827.6+ KB\n"
     ]
    },
    {
     "data": {
      "text/plain": [
       "None"
      ]
     },
     "metadata": {},
     "output_type": "display_data"
    }
   ],
   "source": [
    "data.columns\n",
    "drop_candidates = ['Investigator or Source', 'pdf', 'href formula', 'href','Case Number.1', 'Case Number.2', 'original order', 'Unnamed: 22','Unnamed: 23']\n",
    "data = data.drop(columns = drop_candidates)\n",
    "columns_original = list(data.columns)\n",
    "cols = ['fatal' if each == 'Fatal (Y/N)' else str(each).lower().strip().replace(\" \",\"_\") for each in columns_original]\n",
    "data.columns = cols\n",
    "display(data.info())"
   ]
  },
  {
   "cell_type": "markdown",
   "id": "veterinary-memory",
   "metadata": {},
   "source": [
    "*"
   ]
  },
  {
   "cell_type": "markdown",
   "id": "boxed-navigation",
   "metadata": {},
   "source": [
    "*"
   ]
  },
  {
   "cell_type": "markdown",
   "id": "north-criterion",
   "metadata": {},
   "source": [
    "*"
   ]
  },
  {
   "cell_type": "code",
   "execution_count": 18,
   "id": "desperate-frank",
   "metadata": {},
   "outputs": [],
   "source": [
    "def test_import_link(dataset):\n",
    "    return list(dataset.columns)"
   ]
  },
  {
   "cell_type": "code",
   "execution_count": 19,
   "id": "noticed-italy",
   "metadata": {},
   "outputs": [
    {
     "data": {
      "text/plain": [
       "['Case Number',\n",
       " 'Date',\n",
       " 'Year',\n",
       " 'Type',\n",
       " 'Country',\n",
       " 'Area',\n",
       " 'Location',\n",
       " 'Activity',\n",
       " 'Name',\n",
       " 'Sex ',\n",
       " 'Age',\n",
       " 'Injury',\n",
       " 'Fatal (Y/N)',\n",
       " 'Time',\n",
       " 'Species ',\n",
       " 'Investigator or Source',\n",
       " 'pdf',\n",
       " 'href formula',\n",
       " 'href',\n",
       " 'Case Number.1',\n",
       " 'Case Number.2',\n",
       " 'original order',\n",
       " 'Unnamed: 22',\n",
       " 'Unnamed: 23']"
      ]
     },
     "execution_count": 19,
     "metadata": {},
     "output_type": "execute_result"
    }
   ],
   "source": [
    "pw1.test_import_link(dataset)"
   ]
  },
  {
   "cell_type": "code",
   "execution_count": null,
   "id": "nonprofit-estate",
   "metadata": {},
   "outputs": [],
   "source": []
  },
  {
   "cell_type": "code",
   "execution_count": 20,
   "id": "thorough-contrast",
   "metadata": {
    "scrolled": true
   },
   "outputs": [
    {
     "data": {
      "text/plain": [
       "['case_number',\n",
       " 'date',\n",
       " 'year',\n",
       " 'type',\n",
       " 'country',\n",
       " 'area',\n",
       " 'location',\n",
       " 'activity',\n",
       " 'name',\n",
       " 'sex',\n",
       " 'age',\n",
       " 'injury',\n",
       " 'fatal',\n",
       " 'time',\n",
       " 'species']"
      ]
     },
     "execution_count": 20,
     "metadata": {},
     "output_type": "execute_result"
    }
   ],
   "source": [
    "pw1.test_import_link(data)"
   ]
  },
  {
   "cell_type": "markdown",
   "id": "democratic-roman",
   "metadata": {},
   "source": [
    "*"
   ]
  },
  {
   "cell_type": "markdown",
   "id": "cathedral-weather",
   "metadata": {},
   "source": [
    "*"
   ]
  },
  {
   "cell_type": "markdown",
   "id": "comic-vitamin",
   "metadata": {},
   "source": [
    "Checking index and number of rows in df is correct by creating a tuple "
   ]
  },
  {
   "cell_type": "code",
   "execution_count": 21,
   "id": "disabled-evening",
   "metadata": {},
   "outputs": [
    {
     "data": {
      "text/plain": [
       "True"
      ]
     },
     "execution_count": 21,
     "metadata": {},
     "output_type": "execute_result"
    }
   ],
   "source": [
    "tup_check_length = ((len(list(range (0,6621)))),)\n",
    "tup_check_length == data.index.shape"
   ]
  },
  {
   "cell_type": "markdown",
   "id": "exclusive-marks",
   "metadata": {},
   "source": [
    "*"
   ]
  },
  {
   "cell_type": "markdown",
   "id": "elder-baseball",
   "metadata": {},
   "source": [
    "*"
   ]
  },
  {
   "cell_type": "markdown",
   "id": "painted-rogers",
   "metadata": {},
   "source": [
    "Export and check of resulting dataframe to .csv file without index for following steps."
   ]
  },
  {
   "cell_type": "code",
   "execution_count": 22,
   "id": "legitimate-column",
   "metadata": {},
   "outputs": [],
   "source": [
    "data.to_csv('data-processed/attacks_updated_v1.csv',index = False)"
   ]
  },
  {
   "cell_type": "code",
   "execution_count": 23,
   "id": "secure-newport",
   "metadata": {},
   "outputs": [
    {
     "data": {
      "text/html": [
       "<div>\n",
       "<style scoped>\n",
       "    .dataframe tbody tr th:only-of-type {\n",
       "        vertical-align: middle;\n",
       "    }\n",
       "\n",
       "    .dataframe tbody tr th {\n",
       "        vertical-align: top;\n",
       "    }\n",
       "\n",
       "    .dataframe thead th {\n",
       "        text-align: right;\n",
       "    }\n",
       "</style>\n",
       "<table border=\"1\" class=\"dataframe\">\n",
       "  <thead>\n",
       "    <tr style=\"text-align: right;\">\n",
       "      <th></th>\n",
       "      <th>case_number</th>\n",
       "      <th>date</th>\n",
       "      <th>year</th>\n",
       "      <th>type</th>\n",
       "      <th>country</th>\n",
       "      <th>area</th>\n",
       "      <th>location</th>\n",
       "      <th>activity</th>\n",
       "      <th>name</th>\n",
       "      <th>sex</th>\n",
       "      <th>age</th>\n",
       "      <th>injury</th>\n",
       "      <th>fatal</th>\n",
       "      <th>time</th>\n",
       "      <th>species</th>\n",
       "    </tr>\n",
       "  </thead>\n",
       "  <tbody>\n",
       "    <tr>\n",
       "      <th>0</th>\n",
       "      <td>2021.03.02</td>\n",
       "      <td>02-Mar-2021</td>\n",
       "      <td>2021.0</td>\n",
       "      <td>Unprovoked</td>\n",
       "      <td>NEW CALEDONIA</td>\n",
       "      <td>Loyalty Islands</td>\n",
       "      <td>Ouvéa</td>\n",
       "      <td>Spearfishing</td>\n",
       "      <td>male</td>\n",
       "      <td>M</td>\n",
       "      <td>16.0</td>\n",
       "      <td>Left leg bitten</td>\n",
       "      <td>N</td>\n",
       "      <td>Afternoon</td>\n",
       "      <td>NaN</td>\n",
       "    </tr>\n",
       "    <tr>\n",
       "      <th>1</th>\n",
       "      <td>2021.02.28</td>\n",
       "      <td>28-Feb-2021</td>\n",
       "      <td>2021.0</td>\n",
       "      <td>Unprovoked</td>\n",
       "      <td>NEW CALEDONIA</td>\n",
       "      <td>NaN</td>\n",
       "      <td>I'îot Maître</td>\n",
       "      <td>Swimming</td>\n",
       "      <td>male</td>\n",
       "      <td>M</td>\n",
       "      <td>57.0</td>\n",
       "      <td>Right leg bitten but death due to heart attack</td>\n",
       "      <td>Y</td>\n",
       "      <td>11h00</td>\n",
       "      <td>Tiger shark, 4 m</td>\n",
       "    </tr>\n",
       "    <tr>\n",
       "      <th>2</th>\n",
       "      <td>2021.02.21</td>\n",
       "      <td>20-Feb-2021</td>\n",
       "      <td>2021.0</td>\n",
       "      <td>Provoked</td>\n",
       "      <td>AUSTRALIA</td>\n",
       "      <td>Queensland</td>\n",
       "      <td>Waterford West</td>\n",
       "      <td>Fishing</td>\n",
       "      <td>Jason Rogers</td>\n",
       "      <td>M</td>\n",
       "      <td>NaN</td>\n",
       "      <td>Superficial wound       PROVOKED INCIDENT</td>\n",
       "      <td>N</td>\n",
       "      <td>17h30</td>\n",
       "      <td>Bull shark, 80cm</td>\n",
       "    </tr>\n",
       "    <tr>\n",
       "      <th>3</th>\n",
       "      <td>2021.02.06</td>\n",
       "      <td>06-Feb-2021</td>\n",
       "      <td>2021.0</td>\n",
       "      <td>Unprovoked</td>\n",
       "      <td>USA</td>\n",
       "      <td>Hawaii</td>\n",
       "      <td>Waiokapua Bay, Kaui</td>\n",
       "      <td>Surfing</td>\n",
       "      <td>Gavin Klein</td>\n",
       "      <td>M</td>\n",
       "      <td>NaN</td>\n",
       "      <td>No injury, surfboard bitten</td>\n",
       "      <td>N</td>\n",
       "      <td>16h30</td>\n",
       "      <td>NaN</td>\n",
       "    </tr>\n",
       "    <tr>\n",
       "      <th>4</th>\n",
       "      <td>2021.02.02.b</td>\n",
       "      <td>02-Feb-2021</td>\n",
       "      <td>2021.0</td>\n",
       "      <td>Watercraft</td>\n",
       "      <td>AUSTRALIA</td>\n",
       "      <td>South Australia</td>\n",
       "      <td>Gleneg</td>\n",
       "      <td>Surf skiing</td>\n",
       "      <td>Jad French</td>\n",
       "      <td>M</td>\n",
       "      <td>17.0</td>\n",
       "      <td>No injury, surf ski bitten</td>\n",
       "      <td>N</td>\n",
       "      <td>19h00</td>\n",
       "      <td>Bronze whaler shark</td>\n",
       "    </tr>\n",
       "  </tbody>\n",
       "</table>\n",
       "</div>"
      ],
      "text/plain": [
       "    case_number         date    year        type        country  \\\n",
       "0    2021.03.02  02-Mar-2021  2021.0  Unprovoked  NEW CALEDONIA   \n",
       "1    2021.02.28  28-Feb-2021  2021.0  Unprovoked  NEW CALEDONIA   \n",
       "2    2021.02.21  20-Feb-2021  2021.0    Provoked      AUSTRALIA   \n",
       "3    2021.02.06  06-Feb-2021  2021.0  Unprovoked            USA   \n",
       "4  2021.02.02.b  02-Feb-2021  2021.0  Watercraft      AUSTRALIA   \n",
       "\n",
       "              area             location      activity          name sex   age  \\\n",
       "0  Loyalty Islands                Ouvéa  Spearfishing          male   M  16.0   \n",
       "1              NaN         I'îot Maître      Swimming          male   M  57.0   \n",
       "2       Queensland       Waterford West       Fishing  Jason Rogers   M   NaN   \n",
       "3           Hawaii  Waiokapua Bay, Kaui       Surfing   Gavin Klein   M   NaN   \n",
       "4  South Australia               Gleneg  Surf skiing     Jad French   M  17.0   \n",
       "\n",
       "                                           injury fatal       time  \\\n",
       "0                                 Left leg bitten     N  Afternoon   \n",
       "1  Right leg bitten but death due to heart attack     Y      11h00   \n",
       "2       Superficial wound       PROVOKED INCIDENT     N      17h30   \n",
       "3                     No injury, surfboard bitten     N      16h30   \n",
       "4                      No injury, surf ski bitten     N      19h00   \n",
       "\n",
       "               species  \n",
       "0                  NaN  \n",
       "1     Tiger shark, 4 m  \n",
       "2     Bull shark, 80cm  \n",
       "3                  NaN  \n",
       "4  Bronze whaler shark  "
      ]
     },
     "metadata": {},
     "output_type": "display_data"
    }
   ],
   "source": [
    "check_exported_file = pd.read_csv('data-processed/attacks_updated_v1.csv',nrows=5)\n",
    "display(check_exported_file)"
   ]
  },
  {
   "cell_type": "code",
   "execution_count": null,
   "id": "right-harvey",
   "metadata": {},
   "outputs": [],
   "source": []
  },
  {
   "cell_type": "code",
   "execution_count": null,
   "id": "careful-nightlife",
   "metadata": {},
   "outputs": [],
   "source": []
  }
 ],
 "metadata": {
  "kernelspec": {
   "display_name": "Python 3",
   "language": "python",
   "name": "python3"
  },
  "language_info": {
   "codemirror_mode": {
    "name": "ipython",
    "version": 3
   },
   "file_extension": ".py",
   "mimetype": "text/x-python",
   "name": "python",
   "nbconvert_exporter": "python",
   "pygments_lexer": "ipython3",
   "version": "3.8.5"
  },
  "toc": {
   "base_numbering": 1,
   "nav_menu": {},
   "number_sections": false,
   "sideBar": true,
   "skip_h1_title": false,
   "title_cell": "Table of Contents",
   "title_sidebar": "Contents",
   "toc_cell": false,
   "toc_position": {
    "height": "calc(100% - 180px)",
    "left": "10px",
    "top": "150px",
    "width": "204px"
   },
   "toc_section_display": true,
   "toc_window_display": false
  },
  "varInspector": {
   "cols": {
    "lenName": 16,
    "lenType": 16,
    "lenVar": 40
   },
   "kernels_config": {
    "python": {
     "delete_cmd_postfix": "",
     "delete_cmd_prefix": "del ",
     "library": "var_list.py",
     "varRefreshCmd": "print(var_dic_list())"
    },
    "r": {
     "delete_cmd_postfix": ") ",
     "delete_cmd_prefix": "rm(",
     "library": "var_list.r",
     "varRefreshCmd": "cat(var_dic_list()) "
    }
   },
   "types_to_exclude": [
    "module",
    "function",
    "builtin_function_or_method",
    "instance",
    "_Feature"
   ],
   "window_display": false
  }
 },
 "nbformat": 4,
 "nbformat_minor": 5
}
