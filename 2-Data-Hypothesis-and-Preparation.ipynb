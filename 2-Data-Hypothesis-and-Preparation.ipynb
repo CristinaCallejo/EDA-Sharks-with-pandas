{
 "cells": [
  {
   "cell_type": "markdown",
   "id": "becoming-monte",
   "metadata": {
    "toc": true
   },
   "source": [
    "<h1>2: Data Hypothesis &amp; Preparation<span class=\"tocSkip\"></span></h1>\n",
    "<div class=\"toc\"><ul class=\"toc-item\"><li><span><a href=\"#Imports\" data-toc-modified-id=\"Imports-1\"><span class=\"toc-item-num\">1&nbsp;&nbsp;</span>Imports</a></span></li><li><span><a href=\"#2.title\" data-toc-modified-id=\"2.title-2\"><span class=\"toc-item-num\">2&nbsp;&nbsp;</span>2.title</a></span></li><li><span><a href=\"#3.title\" data-toc-modified-id=\"3.title-3\"><span class=\"toc-item-num\">3&nbsp;&nbsp;</span>3.title</a></span></li></ul></div>"
   ]
  },
  {
   "cell_type": "code",
   "execution_count": 1,
   "id": "broad-collect",
   "metadata": {},
   "outputs": [],
   "source": [
    "import pandas as pd\n",
    "import sys\n",
    "import src.code2_data_preparation as f2\n",
    "# pip install xlrd"
   ]
  },
  {
   "cell_type": "markdown",
   "id": "designed-asbestos",
   "metadata": {},
   "source": [
    "\n"
   ]
  },
  {
   "cell_type": "markdown",
   "id": "hawaiian-expression",
   "metadata": {},
   "source": [
    "    \n",
    "        \n",
    "        "
   ]
  },
  {
   "cell_type": "markdown",
   "id": "material-zoning",
   "metadata": {},
   "source": [
    "    \n",
    "        \n",
    "        "
   ]
  },
  {
   "cell_type": "markdown",
   "id": "missing-protocol",
   "metadata": {},
   "source": [
    "### Imports    \n",
    "   "
   ]
  },
  {
   "cell_type": "markdown",
   "id": "vanilla-moscow",
   "metadata": {},
   "source": [
    "**Import of the .csv obtained in the previous step, assigned to:**\n",
    "`dataframe`.    \n"
   ]
  },
  {
   "cell_type": "code",
   "execution_count": 2,
   "id": "compatible-pasta",
   "metadata": {},
   "outputs": [],
   "source": [
    "dataframe = f2.import_csv(\"data-processed/attacks_updated_v1.csv\")"
   ]
  },
  {
   "cell_type": "code",
   "execution_count": null,
   "id": "baking-group",
   "metadata": {},
   "outputs": [],
   "source": []
  },
  {
   "cell_type": "markdown",
   "id": "sharp-suicide",
   "metadata": {},
   "source": [
    "   \n",
    "      \n",
    "      "
   ]
  },
  {
   "cell_type": "markdown",
   "id": "lyric-cathedral",
   "metadata": {},
   "source": [
    "**t.**"
   ]
  },
  {
   "cell_type": "code",
   "execution_count": null,
   "id": "violent-perception",
   "metadata": {},
   "outputs": [],
   "source": [
    "display(dataframe_orig.iloc[0].head(1))"
   ]
  },
  {
   "cell_type": "code",
   "execution_count": null,
   "id": "spread-sample",
   "metadata": {
    "scrolled": true
   },
   "outputs": [],
   "source": [
    "display(dataframe_updated.iloc[0].head(1))"
   ]
  },
  {
   "cell_type": "markdown",
   "id": "opposite-opinion",
   "metadata": {},
   "source": [
    "     \n",
    "          \n",
    "           "
   ]
  },
  {
   "cell_type": "markdown",
   "id": "charming-sleep",
   "metadata": {},
   "source": [
    "**R**"
   ]
  },
  {
   "cell_type": "code",
   "execution_count": null,
   "id": "developing-fruit",
   "metadata": {},
   "outputs": [],
   "source": [
    "dataframe = dataframe_updated.copy()"
   ]
  },
  {
   "cell_type": "markdown",
   "id": "intelligent-expert",
   "metadata": {},
   "source": [
    "   \n",
    "   "
   ]
  },
  {
   "cell_type": "markdown",
   "id": "french-doctrine",
   "metadata": {},
   "source": [
    "   \n",
    "   "
   ]
  },
  {
   "cell_type": "markdown",
   "id": "answering-theory",
   "metadata": {},
   "source": [
    "    \n",
    "        \n",
    "        "
   ]
  },
  {
   "cell_type": "markdown",
   "id": "needed-porcelain",
   "metadata": {},
   "source": [
    "### 2.title   \n",
    "   \n"
   ]
  },
  {
   "cell_type": "markdown",
   "id": "australian-census",
   "metadata": {},
   "source": [
    "**p**"
   ]
  },
  {
   "cell_type": "code",
   "execution_count": null,
   "id": "cubic-river",
   "metadata": {
    "scrolled": true
   },
   "outputs": [],
   "source": [
    "data1 = f1.remove_empty_and_duplicate_rows(dataframe)"
   ]
  },
  {
   "cell_type": "markdown",
   "id": "arbitrary-parts",
   "metadata": {},
   "source": [
    "    \n",
    "         \n",
    "           "
   ]
  },
  {
   "cell_type": "markdown",
   "id": "official-apollo",
   "metadata": {},
   "source": [
    "**Dr.**"
   ]
  },
  {
   "cell_type": "code",
   "execution_count": null,
   "id": "boxed-broadway",
   "metadata": {},
   "outputs": [],
   "source": [
    "droppable_columns = [\n",
    "    'Investigator or Source', 'pdf', 'href formula', \n",
    "    'href','Case Number.1', 'Case Number.2', \n",
    "    'original order', 'Unnamed: 22','Unnamed: 23',\n",
    "    ]"
   ]
  },
  {
   "cell_type": "code",
   "execution_count": null,
   "id": "systematic-biotechnology",
   "metadata": {
    "scrolled": true
   },
   "outputs": [],
   "source": [
    "f1.remove_unnecessary_columns(droppable_columns,data1)\n",
    "data2 = f1.rename_columns(data1)"
   ]
  },
  {
   "cell_type": "markdown",
   "id": "governing-identity",
   "metadata": {},
   "source": [
    "      \n",
    "           \n",
    "           "
   ]
  },
  {
   "cell_type": "markdown",
   "id": "closing-humanitarian",
   "metadata": {},
   "source": [
    "**Q**"
   ]
  },
  {
   "cell_type": "code",
   "execution_count": null,
   "id": "correct-dominican",
   "metadata": {
    "scrolled": true
   },
   "outputs": [],
   "source": [
    "data2.info()"
   ]
  },
  {
   "cell_type": "markdown",
   "id": "former-poker",
   "metadata": {},
   "source": [
    "    \n",
    "        \n",
    "        "
   ]
  },
  {
   "cell_type": "markdown",
   "id": "chinese-television",
   "metadata": {},
   "source": [
    "    \n",
    "        \n",
    "        "
   ]
  },
  {
   "cell_type": "markdown",
   "id": "foster-printing",
   "metadata": {},
   "source": [
    "### 3.title\n",
    "        \n",
    "        "
   ]
  },
  {
   "cell_type": "markdown",
   "id": "painted-rogers",
   "metadata": {},
   "source": [
    "**Es:**"
   ]
  },
  {
   "cell_type": "code",
   "execution_count": null,
   "id": "amended-congress",
   "metadata": {
    "scrolled": false
   },
   "outputs": [],
   "source": [
    "df = f1.export_df_to_csv_and_check (data2)"
   ]
  },
  {
   "cell_type": "markdown",
   "id": "optical-services",
   "metadata": {},
   "source": [
    "  \n",
    "    \n",
    "      "
   ]
  },
  {
   "cell_type": "markdown",
   "id": "racial-cedar",
   "metadata": {},
   "source": [
    "  \n",
    "    \n",
    "       "
   ]
  },
  {
   "cell_type": "markdown",
   "id": "fiscal-future",
   "metadata": {},
   "source": [
    "   \n",
    "     \n",
    "       \n",
    "       "
   ]
  },
  {
   "cell_type": "markdown",
   "id": "collaborative-humanitarian",
   "metadata": {},
   "source": [
    "   \n",
    "      \n",
    "        "
   ]
  }
 ],
 "metadata": {
  "kernelspec": {
   "display_name": "Python 3",
   "language": "python",
   "name": "python3"
  },
  "language_info": {
   "codemirror_mode": {
    "name": "ipython",
    "version": 3
   },
   "file_extension": ".py",
   "mimetype": "text/x-python",
   "name": "python",
   "nbconvert_exporter": "python",
   "pygments_lexer": "ipython3",
   "version": "3.8.5"
  },
  "toc": {
   "base_numbering": "1.",
   "nav_menu": {},
   "number_sections": true,
   "sideBar": false,
   "skip_h1_title": false,
   "title_cell": "2: Data Hypothesis & Preparation",
   "title_sidebar": "Table of Content",
   "toc_cell": true,
   "toc_position": {
    "height": "calc(100% - 180px)",
    "left": "10px",
    "top": "150px",
    "width": "204px"
   },
   "toc_section_display": false,
   "toc_window_display": true
  },
  "varInspector": {
   "cols": {
    "lenName": 16,
    "lenType": 16,
    "lenVar": 40
   },
   "kernels_config": {
    "python": {
     "delete_cmd_postfix": "",
     "delete_cmd_prefix": "del ",
     "library": "var_list.py",
     "varRefreshCmd": "print(var_dic_list())"
    },
    "r": {
     "delete_cmd_postfix": ") ",
     "delete_cmd_prefix": "rm(",
     "library": "var_list.r",
     "varRefreshCmd": "cat(var_dic_list()) "
    }
   },
   "types_to_exclude": [
    "module",
    "function",
    "builtin_function_or_method",
    "instance",
    "_Feature"
   ],
   "window_display": false
  }
 },
 "nbformat": 4,
 "nbformat_minor": 5
}
