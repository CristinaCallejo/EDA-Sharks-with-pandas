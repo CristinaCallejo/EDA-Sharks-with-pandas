{
 "cells": [
  {
   "cell_type": "markdown",
   "id": "becoming-monte",
   "metadata": {
    "toc": true
   },
   "source": [
    "<h1>1: Data Exploration<span class=\"tocSkip\"></span></h1>\n",
    "<div class=\"toc\"><ul class=\"toc-item\"><li><span><a href=\"#Data-Obtention\" data-toc-modified-id=\"Data-Obtention-1\"><span class=\"toc-item-num\">1&nbsp;&nbsp;</span>Data Obtention</a></span></li><li><span><a href=\"#Initial-Inspection-and-Reshaping-(for-further-exploration)\" data-toc-modified-id=\"Initial-Inspection-and-Reshaping-(for-further-exploration)-2\"><span class=\"toc-item-num\">2&nbsp;&nbsp;</span>Initial Inspection and Reshaping (for further exploration)</a></span></li><li><span><a href=\"#Exporting-Outputs:-Results\" data-toc-modified-id=\"Exporting-Outputs:-Results-3\"><span class=\"toc-item-num\">3&nbsp;&nbsp;</span>Exporting Outputs: Results</a></span></li></ul></div>"
   ]
  },
  {
   "cell_type": "code",
   "execution_count": 1,
   "id": "broad-collect",
   "metadata": {},
   "outputs": [],
   "source": [
    "import pandas as pd\n",
    "import sys\n",
    "import src.code1_data_exploration as f1\n",
    "# pip install xlrd"
   ]
  },
  {
   "cell_type": "markdown",
   "id": "designed-asbestos",
   "metadata": {},
   "source": [
    "\n"
   ]
  },
  {
   "cell_type": "markdown",
   "id": "hawaiian-expression",
   "metadata": {},
   "source": [
    "    \n",
    "        \n",
    "        "
   ]
  },
  {
   "cell_type": "markdown",
   "id": "material-zoning",
   "metadata": {},
   "source": [
    "    \n",
    "        \n",
    "        "
   ]
  },
  {
   "cell_type": "markdown",
   "id": "missing-protocol",
   "metadata": {},
   "source": [
    "### Data Obtention    \n",
    "   "
   ]
  },
  {
   "cell_type": "markdown",
   "id": "vanilla-moscow",
   "metadata": {},
   "source": [
    "**Import of the well known shark attack dataset from Kaggle,assigned to:**\n",
    "`dataframe_orig`.    \n",
    "\n",
    "**Import of updated version from [Shark Research Institute](http://www.sharkattackfile.net/incidentlog.htm), assigned to:**\n",
    "`dataframe_updated`."
   ]
  },
  {
   "cell_type": "code",
   "execution_count": 2,
   "id": "compatible-pasta",
   "metadata": {},
   "outputs": [],
   "source": [
    "dataframe_orig = f1.import_csv(\"data-inputs/attacks.csv\")\n",
    "dataframe_updated = f1.import_xls_to_csv (\"data-inputs/attacks_updated_03042021.xls\")"
   ]
  },
  {
   "cell_type": "markdown",
   "id": "sharp-suicide",
   "metadata": {},
   "source": [
    "   \n",
    "      \n",
    "      "
   ]
  },
  {
   "cell_type": "markdown",
   "id": "lyric-cathedral",
   "metadata": {},
   "source": [
    "**Comparison to decide which dataset to work with for the project.**"
   ]
  },
  {
   "cell_type": "code",
   "execution_count": 3,
   "id": "violent-perception",
   "metadata": {},
   "outputs": [
    {
     "data": {
      "text/plain": [
       "Case Number    2018.06.25\n",
       "Name: 0, dtype: object"
      ]
     },
     "metadata": {},
     "output_type": "display_data"
    }
   ],
   "source": [
    "display(dataframe_orig.iloc[0].head(1))"
   ]
  },
  {
   "cell_type": "code",
   "execution_count": 4,
   "id": "spread-sample",
   "metadata": {
    "scrolled": true
   },
   "outputs": [
    {
     "data": {
      "text/plain": [
       "Case Number    2021.03.02\n",
       "Name: 0, dtype: object"
      ]
     },
     "metadata": {},
     "output_type": "display_data"
    }
   ],
   "source": [
    "display(dataframe_updated.iloc[0].head(1))"
   ]
  },
  {
   "cell_type": "markdown",
   "id": "opposite-opinion",
   "metadata": {},
   "source": [
    "     \n",
    "          \n",
    "           "
   ]
  },
  {
   "cell_type": "markdown",
   "id": "charming-sleep",
   "metadata": {},
   "source": [
    "**Replication of the chosen dataset to maintain original one intact**"
   ]
  },
  {
   "cell_type": "code",
   "execution_count": 5,
   "id": "developing-fruit",
   "metadata": {},
   "outputs": [],
   "source": [
    "dataframe = dataframe_updated.copy()"
   ]
  },
  {
   "cell_type": "markdown",
   "id": "intelligent-expert",
   "metadata": {},
   "source": [
    "   \n",
    "   "
   ]
  },
  {
   "cell_type": "markdown",
   "id": "french-doctrine",
   "metadata": {},
   "source": [
    "   \n",
    "   "
   ]
  },
  {
   "cell_type": "markdown",
   "id": "answering-theory",
   "metadata": {},
   "source": [
    "    \n",
    "        \n",
    "        "
   ]
  },
  {
   "cell_type": "markdown",
   "id": "needed-porcelain",
   "metadata": {},
   "source": [
    "### Initial Inspection and Reshaping (for further exploration)   \n",
    "   \n"
   ]
  },
  {
   "cell_type": "markdown",
   "id": "australian-census",
   "metadata": {},
   "source": [
    "**Dropping empty and duplicate rows**"
   ]
  },
  {
   "cell_type": "code",
   "execution_count": 6,
   "id": "cubic-river",
   "metadata": {
    "scrolled": true
   },
   "outputs": [
    {
     "name": "stdout",
     "output_type": "stream",
     "text": [
      "dataframe original shape is:  (25806, 24)\n",
      "dataframe shape after removing empty rows is:  (8786, 24)\n",
      "dataframe shape after removing duplicate rows is:  (6623, 24)\n"
     ]
    }
   ],
   "source": [
    "data1 = f1.remove_empty_and_duplicate_rows(dataframe)"
   ]
  },
  {
   "cell_type": "markdown",
   "id": "arbitrary-parts",
   "metadata": {},
   "source": [
    "    \n",
    "         \n",
    "           "
   ]
  },
  {
   "cell_type": "markdown",
   "id": "official-apollo",
   "metadata": {},
   "source": [
    "**Dropping columns with irrelevant data to this exploration (as they relate to the database internal management file system) and renaming the remaining columns to facilitate further operations.**"
   ]
  },
  {
   "cell_type": "code",
   "execution_count": 7,
   "id": "boxed-broadway",
   "metadata": {},
   "outputs": [],
   "source": [
    "droppable_columns = [\n",
    "    'Investigator or Source', 'pdf', 'href formula', \n",
    "    'href','Case Number.1', 'Case Number.2', \n",
    "    'original order', 'Unnamed: 22','Unnamed: 23',\n",
    "    ]"
   ]
  },
  {
   "cell_type": "code",
   "execution_count": 8,
   "id": "systematic-biotechnology",
   "metadata": {
    "scrolled": true
   },
   "outputs": [],
   "source": [
    "f1.remove_unnecessary_columns(droppable_columns,data1)\n",
    "data2 = f1.rename_columns(data1)"
   ]
  },
  {
   "cell_type": "markdown",
   "id": "governing-identity",
   "metadata": {},
   "source": [
    "      \n",
    "           \n",
    "           "
   ]
  },
  {
   "cell_type": "markdown",
   "id": "closing-humanitarian",
   "metadata": {},
   "source": [
    "**Quick check that process has been succesfull:**"
   ]
  },
  {
   "cell_type": "code",
   "execution_count": 9,
   "id": "correct-dominican",
   "metadata": {
    "scrolled": true
   },
   "outputs": [
    {
     "name": "stdout",
     "output_type": "stream",
     "text": [
      "<class 'pandas.core.frame.DataFrame'>\n",
      "RangeIndex: 6623 entries, 0 to 6622\n",
      "Data columns (total 15 columns):\n",
      " #   Column       Non-Null Count  Dtype  \n",
      "---  ------       --------------  -----  \n",
      " 0   case_number  6621 non-null   object \n",
      " 1   date         6620 non-null   object \n",
      " 2   year         6619 non-null   float64\n",
      " 3   type         6610 non-null   object \n",
      " 4   country      6571 non-null   object \n",
      " 5   area         6150 non-null   object \n",
      " 6   location     6072 non-null   object \n",
      " 7   activity     6062 non-null   object \n",
      " 8   name         6407 non-null   object \n",
      " 9   sex          6048 non-null   object \n",
      " 10  age          3705 non-null   object \n",
      " 11  injury       6590 non-null   object \n",
      " 12  fatal        6069 non-null   object \n",
      " 13  time         3193 non-null   object \n",
      " 14  species      3648 non-null   object \n",
      "dtypes: float64(1), object(14)\n",
      "memory usage: 776.3+ KB\n"
     ]
    }
   ],
   "source": [
    "data2.info()"
   ]
  },
  {
   "cell_type": "markdown",
   "id": "former-poker",
   "metadata": {},
   "source": [
    "    \n",
    "        \n",
    "        "
   ]
  },
  {
   "cell_type": "markdown",
   "id": "chinese-television",
   "metadata": {},
   "source": [
    "    \n",
    "        \n",
    "        "
   ]
  },
  {
   "cell_type": "markdown",
   "id": "foster-printing",
   "metadata": {},
   "source": [
    "### Exporting Outputs: Results\n",
    "        \n",
    "        "
   ]
  },
  {
   "cell_type": "markdown",
   "id": "painted-rogers",
   "metadata": {},
   "source": [
    "**Export and check of resulting dataframe to .csv file without index for following steps:**"
   ]
  },
  {
   "cell_type": "code",
   "execution_count": 10,
   "id": "amended-congress",
   "metadata": {
    "scrolled": false
   },
   "outputs": [
    {
     "name": "stdout",
     "output_type": "stream",
     "text": [
      "Attention: export succesfull, importing new file to check format\n",
      "Attention: showing first 3 rows of .csv to check format\n",
      "  case_number         date    year        type        country  \\\n",
      "0  2021.03.02  02-Mar-2021  2021.0  Unprovoked  NEW CALEDONIA   \n",
      "1  2021.02.28  28-Feb-2021  2021.0  Unprovoked  NEW CALEDONIA   \n",
      "2  2021.02.21  20-Feb-2021  2021.0    Provoked      AUSTRALIA   \n",
      "\n",
      "              area        location      activity          name sex   age  \\\n",
      "0  Loyalty Islands           Ouvéa  Spearfishing          male   M  16.0   \n",
      "1              NaN    I'îot Maître      Swimming          male   M  57.0   \n",
      "2       Queensland  Waterford West       Fishing  Jason Rogers   M   NaN   \n",
      "\n",
      "                                           injury fatal       time  \\\n",
      "0                                 Left leg bitten     N  Afternoon   \n",
      "1  Right leg bitten but death due to heart attack     Y      11h00   \n",
      "2       Superficial wound       PROVOKED INCIDENT     N      17h30   \n",
      "\n",
      "            species  \n",
      "0               NaN  \n",
      "1  Tiger shark, 4 m  \n",
      "2  Bull shark, 80cm  \n",
      "Attention: Check succesfull and file exported correctly to 'data-processed/attacks_updated_v1.csv'\n"
     ]
    }
   ],
   "source": [
    "df = f1.export_df_to_csv_and_check (data2)"
   ]
  },
  {
   "cell_type": "markdown",
   "id": "optical-services",
   "metadata": {},
   "source": [
    "  \n",
    "    \n",
    "      "
   ]
  },
  {
   "cell_type": "markdown",
   "id": "racial-cedar",
   "metadata": {},
   "source": [
    "  \n",
    "    \n",
    "       "
   ]
  },
  {
   "cell_type": "markdown",
   "id": "fiscal-future",
   "metadata": {},
   "source": [
    "   \n",
    "     \n",
    "       \n",
    "       "
   ]
  },
  {
   "cell_type": "markdown",
   "id": "collaborative-humanitarian",
   "metadata": {},
   "source": [
    "   \n",
    "      \n",
    "        "
   ]
  }
 ],
 "metadata": {
  "kernelspec": {
   "display_name": "Python 3",
   "language": "python",
   "name": "python3"
  },
  "language_info": {
   "codemirror_mode": {
    "name": "ipython",
    "version": 3
   },
   "file_extension": ".py",
   "mimetype": "text/x-python",
   "name": "python",
   "nbconvert_exporter": "python",
   "pygments_lexer": "ipython3",
   "version": "3.8.5"
  },
  "toc": {
   "base_numbering": "1.",
   "nav_menu": {},
   "number_sections": true,
   "sideBar": false,
   "skip_h1_title": false,
   "title_cell": "1: Data Exploration",
   "title_sidebar": "Table of Content",
   "toc_cell": true,
   "toc_position": {
    "height": "calc(100% - 180px)",
    "left": "10px",
    "top": "150px",
    "width": "204px"
   },
   "toc_section_display": false,
   "toc_window_display": true
  },
  "varInspector": {
   "cols": {
    "lenName": 16,
    "lenType": 16,
    "lenVar": 40
   },
   "kernels_config": {
    "python": {
     "delete_cmd_postfix": "",
     "delete_cmd_prefix": "del ",
     "library": "var_list.py",
     "varRefreshCmd": "print(var_dic_list())"
    },
    "r": {
     "delete_cmd_postfix": ") ",
     "delete_cmd_prefix": "rm(",
     "library": "var_list.r",
     "varRefreshCmd": "cat(var_dic_list()) "
    }
   },
   "types_to_exclude": [
    "module",
    "function",
    "builtin_function_or_method",
    "instance",
    "_Feature"
   ],
   "window_display": false
  }
 },
 "nbformat": 4,
 "nbformat_minor": 5
}
